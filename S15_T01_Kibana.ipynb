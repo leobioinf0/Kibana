{
  "nbformat": 4,
  "nbformat_minor": 0,
  "metadata": {
    "colab": {
      "name": "S15_T01_Kibana.ipynb",
      "provenance": [],
      "collapsed_sections": [],
      "mount_file_id": "1MDGqGaVb2zRSSd3_Tgg23NhYK9XIAyzI",
      "authorship_tag": "ABX9TyP2bnWzos+HTQ+LtZK9/Dl8",
      "include_colab_link": true
    },
    "kernelspec": {
      "name": "python3",
      "display_name": "Python 3"
    },
    "language_info": {
      "name": "python"
    }
  },
  "cells": [
    {
      "cell_type": "markdown",
      "metadata": {
        "id": "view-in-github",
        "colab_type": "text"
      },
      "source": [
        "<a href=\"https://colab.research.google.com/github/leobioinf0/Kibana/blob/main/S15_T01_Kibana.ipynb\" target=\"_parent\"><img src=\"https://colab.research.google.com/assets/colab-badge.svg\" alt=\"Open In Colab\"/></a>"
      ]
    },
    {
      "cell_type": "markdown",
      "source": [
        "# IT Academy - Data Science with Python\n",
        "## S15 T01: Kibana"
      ],
      "metadata": {
        "id": "brYuvHIgX3f5"
      }
    },
    {
      "cell_type": "markdown",
      "source": [
        "- Exercise 1: \n",
        "  - Download Kibana and display some graphs using Example datasets.\n",
        "- Exercise 2: \n",
        "  - Implement a dashboard that interactively displays the data you choose.\n",
        "- Exercise 3: \n",
        "  - Implement a dashboard that generates graphics using each of the different types of graphics that Kibana offers."
      ],
      "metadata": {
        "id": "6zIeW9udYLaW"
      }
    },
    {
      "cell_type": "markdown",
      "source": [
        "# Install packages"
      ],
      "metadata": {
        "id": "3FIdvkpGhsnZ"
      }
    },
    {
      "cell_type": "code",
      "execution_count": null,
      "metadata": {
        "id": "tX3XJTUUF4TT"
      },
      "outputs": [],
      "source": [
        "!pip install elasticsearch\n",
        "!pip install pygeoip\n",
        "!pip install user_agents"
      ]
    },
    {
      "cell_type": "markdown",
      "source": [
        "## Level 1\n",
        "\n",
        "- Exercise 1: \n",
        "  - Download Kibana and display some graphs using Example datasets."
      ],
      "metadata": {
        "id": "NenMfnqxX3gD"
      }
    },
    {
      "cell_type": "markdown",
      "source": [
        "## Install Elasticsearch\n",
        "\n",
        "Download and install archive for Linux\n"
      ],
      "metadata": {
        "id": "jFKZD2S_X3gE"
      }
    },
    {
      "cell_type": "code",
      "source": [
        "!wget https://artifacts.elastic.co/downloads/elasticsearch/elasticsearch-8.0.1-linux-x86_64.tar.gz"
      ],
      "metadata": {
        "colab": {
          "base_uri": "https://localhost:8080/"
        },
        "id": "UdIxmf7eMb56",
        "outputId": "7cb7db8e-903b-47ee-8f70-7217ea9c723e"
      },
      "execution_count": null,
      "outputs": [
        {
          "output_type": "stream",
          "name": "stdout",
          "text": [
            "--2022-03-02 19:53:59--  https://artifacts.elastic.co/downloads/elasticsearch/elasticsearch-8.0.1-linux-x86_64.tar.gz\n",
            "Resolving artifacts.elastic.co (artifacts.elastic.co)... 34.120.127.130, 2600:1901:0:1d7::\n",
            "Connecting to artifacts.elastic.co (artifacts.elastic.co)|34.120.127.130|:443... connected.\n",
            "HTTP request sent, awaiting response... 200 OK\n",
            "Length: 515419358 (492M) [application/x-gzip]\n",
            "Saving to: ‘elasticsearch-8.0.1-linux-x86_64.tar.gz’\n",
            "\n",
            "elasticsearch-8.0.1 100%[===================>] 491.54M  27.2MB/s    in 19s     \n",
            "\n",
            "2022-03-02 19:54:18 (25.4 MB/s) - ‘elasticsearch-8.0.1-linux-x86_64.tar.gz’ saved [515419358/515419358]\n",
            "\n"
          ]
        }
      ]
    },
    {
      "cell_type": "markdown",
      "source": [
        "Compares the SHA of the downloaded .tar.gz archive and the published checksum"
      ],
      "metadata": {
        "id": "w0dIJJWXblLl"
      }
    },
    {
      "cell_type": "code",
      "source": [
        "!wget https://artifacts.elastic.co/downloads/elasticsearch/elasticsearch-8.0.1-linux-x86_64.tar.gz.sha512"
      ],
      "metadata": {
        "colab": {
          "base_uri": "https://localhost:8080/"
        },
        "id": "pdZyh1NiMitY",
        "outputId": "5fd4b574-a87b-4d83-f9f2-e10217d778e8"
      },
      "execution_count": null,
      "outputs": [
        {
          "output_type": "stream",
          "name": "stdout",
          "text": [
            "--2022-03-02 19:54:29--  https://artifacts.elastic.co/downloads/elasticsearch/elasticsearch-8.0.1-linux-x86_64.tar.gz.sha512\n",
            "Resolving artifacts.elastic.co (artifacts.elastic.co)... 34.120.127.130, 2600:1901:0:1d7::\n",
            "Connecting to artifacts.elastic.co (artifacts.elastic.co)|34.120.127.130|:443... connected.\n",
            "HTTP request sent, awaiting response... 200 OK\n",
            "Length: 170 [binary/octet-stream]\n",
            "Saving to: ‘elasticsearch-8.0.1-linux-x86_64.tar.gz.sha512’\n",
            "\n",
            "\r          elasticse   0%[                    ]       0  --.-KB/s               \relasticsearch-8.0.1 100%[===================>]     170  --.-KB/s    in 0s      \n",
            "\n",
            "2022-03-02 19:54:29 (26.3 MB/s) - ‘elasticsearch-8.0.1-linux-x86_64.tar.gz.sha512’ saved [170/170]\n",
            "\n"
          ]
        }
      ]
    },
    {
      "cell_type": "code",
      "source": [
        "!shasum -a 512 -c elasticsearch-8.0.1-linux-x86_64.tar.gz.sha512 "
      ],
      "metadata": {
        "colab": {
          "base_uri": "https://localhost:8080/"
        },
        "id": "HIcK91x_Moa3",
        "outputId": "0afa45ca-c051-43bf-8301-5942ba94b809"
      },
      "execution_count": null,
      "outputs": [
        {
          "output_type": "stream",
          "name": "stdout",
          "text": [
            "elasticsearch-8.0.1-linux-x86_64.tar.gz: OK\n"
          ]
        }
      ]
    },
    {
      "cell_type": "code",
      "source": [
        "!tar -xzf elasticsearch-8.0.1-linux-x86_64.tar.gz"
      ],
      "metadata": {
        "id": "Wt2zHAPpMubj"
      },
      "execution_count": null,
      "outputs": []
    },
    {
      "cell_type": "markdown",
      "source": [
        "## Install Kibana"
      ],
      "metadata": {
        "id": "fJmmXeraNYAs"
      }
    },
    {
      "cell_type": "markdown",
      "source": [
        "Import the Elastic PGP key"
      ],
      "metadata": {
        "id": "LKT-TqMzPgn5"
      }
    },
    {
      "cell_type": "code",
      "source": [
        "!wget -qO - https://artifacts.elastic.co/GPG-KEY-elasticsearch | sudo apt-key add -"
      ],
      "metadata": {
        "colab": {
          "base_uri": "https://localhost:8080/"
        },
        "id": "QUwI4radPl0t",
        "outputId": "90f7d2d4-e2aa-4778-c7d0-6b195c84542c"
      },
      "execution_count": null,
      "outputs": [
        {
          "output_type": "stream",
          "name": "stdout",
          "text": [
            "OK\n"
          ]
        }
      ]
    },
    {
      "cell_type": "markdown",
      "source": [
        "\n",
        "Install from the APT repository\n"
      ],
      "metadata": {
        "id": "OKibFlsPX3gE"
      }
    },
    {
      "cell_type": "code",
      "source": [
        "!sudo apt-get install apt-transport-https"
      ],
      "metadata": {
        "colab": {
          "base_uri": "https://localhost:8080/"
        },
        "id": "xzTbOHF2PwoS",
        "outputId": "d15e28f0-8225-4f1a-a6a9-411fb252a1e2"
      },
      "execution_count": null,
      "outputs": [
        {
          "output_type": "stream",
          "name": "stdout",
          "text": [
            "Reading package lists... Done\n",
            "Building dependency tree       \n",
            "Reading state information... Done\n",
            "The following package was automatically installed and is no longer required:\n",
            "  libnvidia-common-470\n",
            "Use 'sudo apt autoremove' to remove it.\n",
            "The following NEW packages will be installed:\n",
            "  apt-transport-https\n",
            "0 upgraded, 1 newly installed, 0 to remove and 39 not upgraded.\n",
            "Need to get 4,348 B of archives.\n",
            "After this operation, 154 kB of additional disk space will be used.\n",
            "Get:1 http://archive.ubuntu.com/ubuntu bionic-updates/universe amd64 apt-transport-https all 1.6.14 [4,348 B]\n",
            "Fetched 4,348 B in 0s (20.4 kB/s)\n",
            "debconf: unable to initialize frontend: Dialog\n",
            "debconf: (No usable dialog-like program is installed, so the dialog based frontend cannot be used. at /usr/share/perl5/Debconf/FrontEnd/Dialog.pm line 76, <> line 1.)\n",
            "debconf: falling back to frontend: Readline\n",
            "debconf: unable to initialize frontend: Readline\n",
            "debconf: (This frontend requires a controlling tty.)\n",
            "debconf: falling back to frontend: Teletype\n",
            "dpkg-preconfigure: unable to re-open stdin: \n",
            "Selecting previously unselected package apt-transport-https.\n",
            "(Reading database ... 155320 files and directories currently installed.)\n",
            "Preparing to unpack .../apt-transport-https_1.6.14_all.deb ...\n",
            "Unpacking apt-transport-https (1.6.14) ...\n",
            "Setting up apt-transport-https (1.6.14) ...\n"
          ]
        }
      ]
    },
    {
      "cell_type": "markdown",
      "source": [
        "Save the repository"
      ],
      "metadata": {
        "id": "_k8ZmM57P7Kf"
      }
    },
    {
      "cell_type": "code",
      "source": [
        "!echo \"deb https://artifacts.elastic.co/packages/8.x/apt stable main\" | sudo tee -a /etc/apt/sources.list.d/elastic-8.x.list"
      ],
      "metadata": {
        "colab": {
          "base_uri": "https://localhost:8080/"
        },
        "id": "91SZ30JFP3Ba",
        "outputId": "92a97e2a-1837-42e9-b5df-f0d9fe575df7"
      },
      "execution_count": null,
      "outputs": [
        {
          "output_type": "stream",
          "name": "stdout",
          "text": [
            "deb https://artifacts.elastic.co/packages/8.x/apt stable main\n"
          ]
        }
      ]
    },
    {
      "cell_type": "markdown",
      "source": [
        "You can install the Kibana Debian package with:"
      ],
      "metadata": {
        "id": "sHFMzgBQQA-Y"
      }
    },
    {
      "cell_type": "code",
      "source": [
        "!sudo apt-get update && sudo apt-get install kibana"
      ],
      "metadata": {
        "colab": {
          "base_uri": "https://localhost:8080/"
        },
        "id": "CNOzHF1QQBzF",
        "outputId": "22ebb7b1-2dc2-450b-9f49-bda912706b44"
      },
      "execution_count": null,
      "outputs": [
        {
          "output_type": "stream",
          "name": "stdout",
          "text": [
            "\r0% [Working]\r            \rGet:1 https://cloud.r-project.org/bin/linux/ubuntu bionic-cran40/ InRelease [3,626 B]\n",
            "\r0% [Connecting to archive.ubuntu.com (91.189.88.142)] [Waiting for headers] [1 \r0% [Connecting to archive.ubuntu.com (91.189.88.142)] [Waiting for headers] [Wa\r0% [1 InRelease gpgv 3,626 B] [Connecting to archive.ubuntu.com (91.189.88.142)\r                                                                               \rIgn:2 https://developer.download.nvidia.com/compute/cuda/repos/ubuntu1804/x86_64  InRelease\n",
            "\r0% [1 InRelease gpgv 3,626 B] [Connecting to archive.ubuntu.com (91.189.88.142)\r                                                                               \rGet:3 https://artifacts.elastic.co/packages/8.x/apt stable InRelease [10.4 kB]\n",
            "Get:4 http://security.ubuntu.com/ubuntu bionic-security InRelease [88.7 kB]\n",
            "Get:5 http://ppa.launchpad.net/c2d4u.team/c2d4u4.0+/ubuntu bionic InRelease [15.9 kB]\n",
            "Ign:6 https://developer.download.nvidia.com/compute/machine-learning/repos/ubuntu1804/x86_64  InRelease\n",
            "Get:7 https://developer.download.nvidia.com/compute/cuda/repos/ubuntu1804/x86_64  Release [696 B]\n",
            "Hit:8 https://developer.download.nvidia.com/compute/machine-learning/repos/ubuntu1804/x86_64  Release\n",
            "Get:9 https://developer.download.nvidia.com/compute/cuda/repos/ubuntu1804/x86_64  Release.gpg [836 B]\n",
            "Hit:10 http://archive.ubuntu.com/ubuntu bionic InRelease\n",
            "Get:11 https://cloud.r-project.org/bin/linux/ubuntu bionic-cran40/ Packages [76.8 kB]\n",
            "Get:12 http://archive.ubuntu.com/ubuntu bionic-updates InRelease [88.7 kB]\n",
            "Get:13 https://artifacts.elastic.co/packages/8.x/apt stable/main amd64 Packages [5,153 B]\n",
            "Hit:15 http://ppa.launchpad.net/cran/libgit2/ubuntu bionic InRelease\n",
            "Get:16 https://developer.download.nvidia.com/compute/cuda/repos/ubuntu1804/x86_64  Packages [931 kB]\n",
            "Get:17 http://archive.ubuntu.com/ubuntu bionic-backports InRelease [74.6 kB]\n",
            "Hit:18 http://ppa.launchpad.net/deadsnakes/ppa/ubuntu bionic InRelease\n",
            "Get:19 http://ppa.launchpad.net/graphics-drivers/ppa/ubuntu bionic InRelease [21.3 kB]\n",
            "Get:20 http://security.ubuntu.com/ubuntu bionic-security/restricted amd64 Packages [806 kB]\n",
            "Get:21 http://ppa.launchpad.net/c2d4u.team/c2d4u4.0+/ubuntu bionic/main Sources [1,827 kB]\n",
            "Get:22 http://archive.ubuntu.com/ubuntu bionic-updates/universe amd64 Packages [2,252 kB]\n",
            "Get:23 http://security.ubuntu.com/ubuntu bionic-security/main amd64 Packages [2,596 kB]\n",
            "Get:24 http://security.ubuntu.com/ubuntu bionic-security/universe amd64 Packages [1,474 kB]\n",
            "Get:25 http://archive.ubuntu.com/ubuntu bionic-updates/main amd64 Packages [3,035 kB]\n",
            "Get:26 http://archive.ubuntu.com/ubuntu bionic-updates/restricted amd64 Packages [840 kB]\n",
            "Get:27 http://ppa.launchpad.net/c2d4u.team/c2d4u4.0+/ubuntu bionic/main amd64 Packages [936 kB]\n",
            "Get:28 http://ppa.launchpad.net/graphics-drivers/ppa/ubuntu bionic/main amd64 Packages [42.8 kB]\n",
            "Fetched 15.1 MB in 3s (5,268 kB/s)\n",
            "Reading package lists... Done\n",
            "Reading package lists... Done\n",
            "Building dependency tree       \n",
            "Reading state information... Done\n",
            "The following package was automatically installed and is no longer required:\n",
            "  libnvidia-common-470\n",
            "Use 'sudo apt autoremove' to remove it.\n",
            "The following NEW packages will be installed:\n",
            "  kibana\n",
            "0 upgraded, 1 newly installed, 0 to remove and 75 not upgraded.\n",
            "Need to get 281 MB of archives.\n",
            "After this operation, 761 MB of additional disk space will be used.\n",
            "Get:1 https://artifacts.elastic.co/packages/8.x/apt stable/main amd64 kibana amd64 8.0.1 [281 MB]\n",
            "Fetched 281 MB in 11s (25.4 MB/s)\n",
            "debconf: unable to initialize frontend: Dialog\n",
            "debconf: (No usable dialog-like program is installed, so the dialog based frontend cannot be used. at /usr/share/perl5/Debconf/FrontEnd/Dialog.pm line 76, <> line 1.)\n",
            "debconf: falling back to frontend: Readline\n",
            "debconf: unable to initialize frontend: Readline\n",
            "debconf: (This frontend requires a controlling tty.)\n",
            "debconf: falling back to frontend: Teletype\n",
            "dpkg-preconfigure: unable to re-open stdin: \n",
            "Selecting previously unselected package kibana.\n",
            "(Reading database ... 155324 files and directories currently installed.)\n",
            "Preparing to unpack .../kibana_8.0.1_amd64.deb ...\n",
            "System has not been booted with systemd as init system (PID 1). Can't operate.\n",
            "Unpacking kibana (8.0.1) ...\n",
            "Setting up kibana (8.0.1) ...\n",
            "Creating kibana group... OK\n",
            "Creating kibana user... OK\n",
            "Created Kibana keystore in /etc/kibana/kibana.keystore\n"
          ]
        }
      ]
    },
    {
      "cell_type": "markdown",
      "source": [
        "## Home Elastic"
      ],
      "metadata": {
        "id": "TajnGLvMX3gR"
      }
    },
    {
      "cell_type": "markdown",
      "source": [
        "![HomeElastic](https://raw.githubusercontent.com/leobioinf0/Kibana/main/img/01-HomeElastic.png)"
      ],
      "metadata": {
        "id": "ryH7IEDxX3gR"
      }
    },
    {
      "cell_type": "markdown",
      "source": [
        "## Visualize the Data\n",
        "\n",
        "Display Visualizations of Data Ecommerce Example"
      ],
      "metadata": {
        "id": "8rNj4vbKX3gS"
      }
    },
    {
      "cell_type": "markdown",
      "source": [
        "### Graph"
      ],
      "metadata": {
        "id": "-swKdUWXX3gS"
      }
    },
    {
      "cell_type": "markdown",
      "source": [
        "![ecommerce_graph](https://raw.githubusercontent.com/leobioinf0/Kibana/main/img/02-ecommerce_graph.png)"
      ],
      "metadata": {
        "id": "d5n3z6NKX3gS"
      }
    },
    {
      "cell_type": "markdown",
      "source": [
        "### Map (Total Revenue)"
      ],
      "metadata": {
        "id": "U1ROuNvIX3gT"
      }
    },
    {
      "cell_type": "markdown",
      "source": [
        "![totalRevenue_map](https://raw.githubusercontent.com/leobioinf0/Kibana/main/img/03-totalRevenue_map.png)"
      ],
      "metadata": {
        "id": "1aW7AD5KX3gT"
      }
    },
    {
      "cell_type": "markdown",
      "source": [
        "### Rvenue And Transactions\n"
      ],
      "metadata": {
        "id": "SROoVeYQX3gT"
      }
    },
    {
      "cell_type": "markdown",
      "source": [
        "![revenueAndTransactions_dashboard](https://raw.githubusercontent.com/leobioinf0/Kibana/main/img/04-revenueAndTransactions_dashboard.png)"
      ],
      "metadata": {
        "id": "ObFNZ4c2X3gT"
      }
    },
    {
      "cell_type": "markdown",
      "source": [
        "### Bars and Table"
      ],
      "metadata": {
        "id": "RTtVEbrVD6XH"
      }
    },
    {
      "cell_type": "markdown",
      "source": [
        "![barsAndTable](https://raw.githubusercontent.com/leobioinf0/Kibana/main/img/05-barsAndTable_dashboard.png)"
      ],
      "metadata": {
        "id": "jumyW-pED6Xn"
      }
    },
    {
      "cell_type": "markdown",
      "source": [
        "### Metrics"
      ],
      "metadata": {
        "id": "E0_drVbMX3gU"
      }
    },
    {
      "cell_type": "markdown",
      "source": [
        "![metrics_dashboard](https://raw.githubusercontent.com/leobioinf0/Kibana/main/img/05-metrics_dashboard.png)"
      ],
      "metadata": {
        "id": "2QeHshlPX3gU"
      }
    },
    {
      "cell_type": "markdown",
      "source": [
        "### Tracks And Map"
      ],
      "metadata": {
        "id": "Hp461FQVX3gU"
      }
    },
    {
      "cell_type": "markdown",
      "source": [
        "![tracksAndMap_dashboard](https://raw.githubusercontent.com/leobioinf0/Kibana/main/img/06-tracksAndMap_dashboard.png)"
      ],
      "metadata": {
        "id": "uR41TH-lX3gU"
      }
    },
    {
      "cell_type": "markdown",
      "source": [
        "### Horizontal Bars"
      ],
      "metadata": {
        "id": "blTv5jsFX3gV"
      }
    },
    {
      "cell_type": "markdown",
      "source": [
        "![hbars_dashboard](https://raw.githubusercontent.com/leobioinf0/Kibana/main/img/07-hbars_dashboard.png)"
      ],
      "metadata": {
        "id": "FFsb9KLfX3gV"
      }
    },
    {
      "cell_type": "markdown",
      "source": [
        "### Documents"
      ],
      "metadata": {
        "id": "RQV176z_S5vi"
      }
    },
    {
      "cell_type": "markdown",
      "source": [
        "![orders_dashboard](https://raw.githubusercontent.com/leobioinf0/Kibana/main/img/08-orders_dashboard.png)"
      ],
      "metadata": {
        "id": "7lTxrLmVTAE-"
      }
    },
    {
      "cell_type": "markdown",
      "source": [
        "## Level 2\n",
        "\n",
        "- Exercise 1: \n",
        "  - Implement a dashboard that interactively displays the data you choose."
      ],
      "metadata": {
        "id": "bLa_wHaNX3gV"
      }
    },
    {
      "cell_type": "markdown",
      "source": [
        "![dashboard](https://raw.githubusercontent.com/leobioinf0/Kibana/main/img/09-dashboard.png)"
      ],
      "metadata": {
        "id": "4a5QB1VXVHHH"
      }
    },
    {
      "cell_type": "markdown",
      "source": [
        "## Level 3\n",
        "\n",
        "- Exercise 1: \n",
        "  - Implement a dashboard that generates graphics using each of the different types of graphics that Kibana offers."
      ],
      "metadata": {
        "id": "UUIx3AxSX3gZ"
      }
    },
    {
      "cell_type": "markdown",
      "source": [
        "We will use the data from the exercise \"Registre_de_logs\""
      ],
      "metadata": {
        "id": "yzbuo3q6IGuB"
      }
    },
    {
      "cell_type": "markdown",
      "source": [
        "### Get Data "
      ],
      "metadata": {
        "id": "PCPrZQs2X3gV"
      }
    },
    {
      "cell_type": "code",
      "source": [
        "!wget https://raw.githubusercontent.com/leobioinf0/Registre_de_logs/main/SMALL_Web_access_log-akumenius.com.txt"
      ],
      "metadata": {
        "colab": {
          "base_uri": "https://localhost:8080/"
        },
        "id": "2zNjnfMGwkpI",
        "outputId": "afa8bd8b-71b2-4091-d0a5-3473a90c0fbc"
      },
      "execution_count": 6,
      "outputs": [
        {
          "output_type": "stream",
          "name": "stdout",
          "text": [
            "--2022-03-02 22:31:36--  https://raw.githubusercontent.com/leobioinf0/Registre_de_logs/main/SMALL_Web_access_log-akumenius.com.txt\n",
            "Resolving raw.githubusercontent.com (raw.githubusercontent.com)... 185.199.108.133, 185.199.109.133, 185.199.110.133, ...\n",
            "Connecting to raw.githubusercontent.com (raw.githubusercontent.com)|185.199.108.133|:443... connected.\n",
            "HTTP request sent, awaiting response... 200 OK\n",
            "Length: 20624575 (20M) [text/plain]\n",
            "Saving to: ‘SMALL_Web_access_log-akumenius.com.txt’\n",
            "\n",
            "SMALL_Web_access_lo 100%[===================>]  19.67M  --.-KB/s    in 0.09s   \n",
            "\n",
            "2022-03-02 22:31:38 (210 MB/s) - ‘SMALL_Web_access_log-akumenius.com.txt’ saved [20624575/20624575]\n",
            "\n"
          ]
        }
      ]
    },
    {
      "cell_type": "code",
      "source": [
        "import pandas as pd\n",
        "\n",
        "df = pd.read_csv(\n",
        "    'https://raw.githubusercontent.com/leobioinf0/Registre_de_logs/main/SMALL_Web_access_log-akumenius.com.txt',\n",
        "    sep=r'\\s(?=(?:[^\"]*\"[^\"]*\")*[^\"]*$)(?![^\\[]*\\])',\n",
        "    engine='python',\n",
        "    na_values=\"-\",\n",
        "    header=None,\n",
        "    usecols=[0, 1, 4, 5, 6, 7, 8, 9],\n",
        "    names=['host','ip', 'time', 'request', 'status', 'size', 'referer', 'user_agent'],\n",
        "    converters={'size': int})\n",
        "df.tail(2)"
      ],
      "metadata": {
        "id": "jUgMArZcwe8H",
        "colab": {
          "base_uri": "https://localhost:8080/",
          "height": 206
        },
        "outputId": "f57c3751-09e2-4a58-ac4b-ed4f002d4d26"
      },
      "execution_count": 9,
      "outputs": [
        {
          "output_type": "execute_result",
          "data": {
            "text/html": [
              "\n",
              "  <div id=\"df-fba7b8d5-7c9c-4fa1-adbd-46ee04749b11\">\n",
              "    <div class=\"colab-df-container\">\n",
              "      <div>\n",
              "<style scoped>\n",
              "    .dataframe tbody tr th:only-of-type {\n",
              "        vertical-align: middle;\n",
              "    }\n",
              "\n",
              "    .dataframe tbody tr th {\n",
              "        vertical-align: top;\n",
              "    }\n",
              "\n",
              "    .dataframe thead th {\n",
              "        text-align: right;\n",
              "    }\n",
              "</style>\n",
              "<table border=\"1\" class=\"dataframe\">\n",
              "  <thead>\n",
              "    <tr style=\"text-align: right;\">\n",
              "      <th></th>\n",
              "      <th>host</th>\n",
              "      <th>ip</th>\n",
              "      <th>time</th>\n",
              "      <th>request</th>\n",
              "      <th>status</th>\n",
              "      <th>size</th>\n",
              "      <th>referer</th>\n",
              "      <th>user_agent</th>\n",
              "    </tr>\n",
              "  </thead>\n",
              "  <tbody>\n",
              "    <tr>\n",
              "      <th>0</th>\n",
              "      <td>localhost</td>\n",
              "      <td>127.0.0.1</td>\n",
              "      <td>[23/Feb/2014:03:10:31 +0100]</td>\n",
              "      <td>\"OPTIONS * HTTP/1.0\"</td>\n",
              "      <td>200</td>\n",
              "      <td>NaN</td>\n",
              "      <td>\"-\"</td>\n",
              "      <td>\"Apache (internal dummy connection)\"</td>\n",
              "    </tr>\n",
              "    <tr>\n",
              "      <th>1</th>\n",
              "      <td>localhost</td>\n",
              "      <td>127.0.0.1</td>\n",
              "      <td>[23/Feb/2014:03:10:31 +0100]</td>\n",
              "      <td>\"OPTIONS * HTTP/1.0\"</td>\n",
              "      <td>200</td>\n",
              "      <td>NaN</td>\n",
              "      <td>\"-\"</td>\n",
              "      <td>\"Apache (internal dummy connection)\"</td>\n",
              "    </tr>\n",
              "    <tr>\n",
              "      <th>2</th>\n",
              "      <td>localhost</td>\n",
              "      <td>127.0.0.1</td>\n",
              "      <td>[23/Feb/2014:03:10:31 +0100]</td>\n",
              "      <td>\"OPTIONS * HTTP/1.0\"</td>\n",
              "      <td>200</td>\n",
              "      <td>NaN</td>\n",
              "      <td>\"-\"</td>\n",
              "      <td>\"Apache (internal dummy connection)\"</td>\n",
              "    </tr>\n",
              "    <tr>\n",
              "      <th>3</th>\n",
              "      <td>localhost</td>\n",
              "      <td>127.0.0.1</td>\n",
              "      <td>[23/Feb/2014:03:10:31 +0100]</td>\n",
              "      <td>\"OPTIONS * HTTP/1.0\"</td>\n",
              "      <td>200</td>\n",
              "      <td>NaN</td>\n",
              "      <td>\"-\"</td>\n",
              "      <td>\"Apache (internal dummy connection)\"</td>\n",
              "    </tr>\n",
              "    <tr>\n",
              "      <th>4</th>\n",
              "      <td>localhost</td>\n",
              "      <td>127.0.0.1</td>\n",
              "      <td>[23/Feb/2014:03:10:31 +0100]</td>\n",
              "      <td>\"OPTIONS * HTTP/1.0\"</td>\n",
              "      <td>200</td>\n",
              "      <td>NaN</td>\n",
              "      <td>\"-\"</td>\n",
              "      <td>\"Apache (internal dummy connection)\"</td>\n",
              "    </tr>\n",
              "  </tbody>\n",
              "</table>\n",
              "</div>\n",
              "      <button class=\"colab-df-convert\" onclick=\"convertToInteractive('df-fba7b8d5-7c9c-4fa1-adbd-46ee04749b11')\"\n",
              "              title=\"Convert this dataframe to an interactive table.\"\n",
              "              style=\"display:none;\">\n",
              "        \n",
              "  <svg xmlns=\"http://www.w3.org/2000/svg\" height=\"24px\"viewBox=\"0 0 24 24\"\n",
              "       width=\"24px\">\n",
              "    <path d=\"M0 0h24v24H0V0z\" fill=\"none\"/>\n",
              "    <path d=\"M18.56 5.44l.94 2.06.94-2.06 2.06-.94-2.06-.94-.94-2.06-.94 2.06-2.06.94zm-11 1L8.5 8.5l.94-2.06 2.06-.94-2.06-.94L8.5 2.5l-.94 2.06-2.06.94zm10 10l.94 2.06.94-2.06 2.06-.94-2.06-.94-.94-2.06-.94 2.06-2.06.94z\"/><path d=\"M17.41 7.96l-1.37-1.37c-.4-.4-.92-.59-1.43-.59-.52 0-1.04.2-1.43.59L10.3 9.45l-7.72 7.72c-.78.78-.78 2.05 0 2.83L4 21.41c.39.39.9.59 1.41.59.51 0 1.02-.2 1.41-.59l7.78-7.78 2.81-2.81c.8-.78.8-2.07 0-2.86zM5.41 20L4 18.59l7.72-7.72 1.47 1.35L5.41 20z\"/>\n",
              "  </svg>\n",
              "      </button>\n",
              "      \n",
              "  <style>\n",
              "    .colab-df-container {\n",
              "      display:flex;\n",
              "      flex-wrap:wrap;\n",
              "      gap: 12px;\n",
              "    }\n",
              "\n",
              "    .colab-df-convert {\n",
              "      background-color: #E8F0FE;\n",
              "      border: none;\n",
              "      border-radius: 50%;\n",
              "      cursor: pointer;\n",
              "      display: none;\n",
              "      fill: #1967D2;\n",
              "      height: 32px;\n",
              "      padding: 0 0 0 0;\n",
              "      width: 32px;\n",
              "    }\n",
              "\n",
              "    .colab-df-convert:hover {\n",
              "      background-color: #E2EBFA;\n",
              "      box-shadow: 0px 1px 2px rgba(60, 64, 67, 0.3), 0px 1px 3px 1px rgba(60, 64, 67, 0.15);\n",
              "      fill: #174EA6;\n",
              "    }\n",
              "\n",
              "    [theme=dark] .colab-df-convert {\n",
              "      background-color: #3B4455;\n",
              "      fill: #D2E3FC;\n",
              "    }\n",
              "\n",
              "    [theme=dark] .colab-df-convert:hover {\n",
              "      background-color: #434B5C;\n",
              "      box-shadow: 0px 1px 3px 1px rgba(0, 0, 0, 0.15);\n",
              "      filter: drop-shadow(0px 1px 2px rgba(0, 0, 0, 0.3));\n",
              "      fill: #FFFFFF;\n",
              "    }\n",
              "  </style>\n",
              "\n",
              "      <script>\n",
              "        const buttonEl =\n",
              "          document.querySelector('#df-fba7b8d5-7c9c-4fa1-adbd-46ee04749b11 button.colab-df-convert');\n",
              "        buttonEl.style.display =\n",
              "          google.colab.kernel.accessAllowed ? 'block' : 'none';\n",
              "\n",
              "        async function convertToInteractive(key) {\n",
              "          const element = document.querySelector('#df-fba7b8d5-7c9c-4fa1-adbd-46ee04749b11');\n",
              "          const dataTable =\n",
              "            await google.colab.kernel.invokeFunction('convertToInteractive',\n",
              "                                                     [key], {});\n",
              "          if (!dataTable) return;\n",
              "\n",
              "          const docLinkHtml = 'Like what you see? Visit the ' +\n",
              "            '<a target=\"_blank\" href=https://colab.research.google.com/notebooks/data_table.ipynb>data table notebook</a>'\n",
              "            + ' to learn more about interactive tables.';\n",
              "          element.innerHTML = '';\n",
              "          dataTable['output_type'] = 'display_data';\n",
              "          await google.colab.output.renderOutput(dataTable, element);\n",
              "          const docLink = document.createElement('div');\n",
              "          docLink.innerHTML = docLinkHtml;\n",
              "          element.appendChild(docLink);\n",
              "        }\n",
              "      </script>\n",
              "    </div>\n",
              "  </div>\n",
              "  "
            ],
            "text/plain": [
              "        host         ip  ... referer                            user_agent\n",
              "0  localhost  127.0.0.1  ...     \"-\"  \"Apache (internal dummy connection)\"\n",
              "1  localhost  127.0.0.1  ...     \"-\"  \"Apache (internal dummy connection)\"\n",
              "2  localhost  127.0.0.1  ...     \"-\"  \"Apache (internal dummy connection)\"\n",
              "3  localhost  127.0.0.1  ...     \"-\"  \"Apache (internal dummy connection)\"\n",
              "4  localhost  127.0.0.1  ...     \"-\"  \"Apache (internal dummy connection)\"\n",
              "\n",
              "[5 rows x 8 columns]"
            ]
          },
          "metadata": {},
          "execution_count": 9
        }
      ]
    },
    {
      "cell_type": "markdown",
      "source": [
        "Replace \"w.\" and \"ww.\" with \"www.\" in the attribute \"host\" "
      ],
      "metadata": {
        "id": "nxHpW3_hIg9N"
      }
    },
    {
      "cell_type": "code",
      "metadata": {
        "id": "YfIQ-ZN8rWgO",
        "colab": {
          "base_uri": "https://localhost:8080/"
        },
        "outputId": "9169ae69-5281-4885-ce47-5800d08cd38d"
      },
      "source": [
        "df[\"host\"].str.replace(\"^[w]{1,2}\\.\",\"www.\")"
      ],
      "execution_count": 10,
      "outputs": [
        {
          "output_type": "stream",
          "name": "stderr",
          "text": [
            "/usr/local/lib/python3.7/dist-packages/ipykernel_launcher.py:2: FutureWarning: The default value of regex will change from True to False in a future version.\n",
            "  \n"
          ]
        },
        {
          "output_type": "execute_result",
          "data": {
            "text/plain": [
              "0                localhost\n",
              "1                localhost\n",
              "2                localhost\n",
              "3                localhost\n",
              "4                localhost\n",
              "               ...        \n",
              "72023    www.akumenius.com\n",
              "72024    www.akumenius.com\n",
              "72025    www.akumenius.com\n",
              "72026    www.akumenius.com\n",
              "72027    www.akumenius.com\n",
              "Name: host, Length: 72028, dtype: object"
            ]
          },
          "metadata": {},
          "execution_count": 10
        }
      ]
    },
    {
      "cell_type": "markdown",
      "source": [
        "We extract the HTTP request methods from the request"
      ],
      "metadata": {
        "id": "wiX5_KkAIlB5"
      }
    },
    {
      "cell_type": "code",
      "source": [
        "df[\"methods\"] = df[\"request\"].str.extract(r'(GET|HEAD|TRACE|OPTIONS|POST|PUT|DELETE|CONNECT|PATCH)')\n",
        "df.tail(2)"
      ],
      "metadata": {
        "colab": {
          "base_uri": "https://localhost:8080/",
          "height": 112
        },
        "id": "OLQndPrGxQIa",
        "outputId": "ab454812-e988-4369-d861-5fc1b5bf560b"
      },
      "execution_count": 11,
      "outputs": [
        {
          "output_type": "execute_result",
          "data": {
            "text/html": [
              "\n",
              "  <div id=\"df-456b4e5c-d132-43de-b491-f7af9d4a27ec\">\n",
              "    <div class=\"colab-df-container\">\n",
              "      <div>\n",
              "<style scoped>\n",
              "    .dataframe tbody tr th:only-of-type {\n",
              "        vertical-align: middle;\n",
              "    }\n",
              "\n",
              "    .dataframe tbody tr th {\n",
              "        vertical-align: top;\n",
              "    }\n",
              "\n",
              "    .dataframe thead th {\n",
              "        text-align: right;\n",
              "    }\n",
              "</style>\n",
              "<table border=\"1\" class=\"dataframe\">\n",
              "  <thead>\n",
              "    <tr style=\"text-align: right;\">\n",
              "      <th></th>\n",
              "      <th>host</th>\n",
              "      <th>ip</th>\n",
              "      <th>time</th>\n",
              "      <th>request</th>\n",
              "      <th>status</th>\n",
              "      <th>size</th>\n",
              "      <th>referer</th>\n",
              "      <th>user_agent</th>\n",
              "      <th>methods</th>\n",
              "    </tr>\n",
              "  </thead>\n",
              "  <tbody>\n",
              "    <tr>\n",
              "      <th>0</th>\n",
              "      <td>localhost</td>\n",
              "      <td>127.0.0.1</td>\n",
              "      <td>[23/Feb/2014:03:10:31 +0100]</td>\n",
              "      <td>\"OPTIONS * HTTP/1.0\"</td>\n",
              "      <td>200</td>\n",
              "      <td>NaN</td>\n",
              "      <td>\"-\"</td>\n",
              "      <td>\"Apache (internal dummy connection)\"</td>\n",
              "      <td>OPTIONS</td>\n",
              "    </tr>\n",
              "    <tr>\n",
              "      <th>1</th>\n",
              "      <td>localhost</td>\n",
              "      <td>127.0.0.1</td>\n",
              "      <td>[23/Feb/2014:03:10:31 +0100]</td>\n",
              "      <td>\"OPTIONS * HTTP/1.0\"</td>\n",
              "      <td>200</td>\n",
              "      <td>NaN</td>\n",
              "      <td>\"-\"</td>\n",
              "      <td>\"Apache (internal dummy connection)\"</td>\n",
              "      <td>OPTIONS</td>\n",
              "    </tr>\n",
              "  </tbody>\n",
              "</table>\n",
              "</div>\n",
              "      <button class=\"colab-df-convert\" onclick=\"convertToInteractive('df-456b4e5c-d132-43de-b491-f7af9d4a27ec')\"\n",
              "              title=\"Convert this dataframe to an interactive table.\"\n",
              "              style=\"display:none;\">\n",
              "        \n",
              "  <svg xmlns=\"http://www.w3.org/2000/svg\" height=\"24px\"viewBox=\"0 0 24 24\"\n",
              "       width=\"24px\">\n",
              "    <path d=\"M0 0h24v24H0V0z\" fill=\"none\"/>\n",
              "    <path d=\"M18.56 5.44l.94 2.06.94-2.06 2.06-.94-2.06-.94-.94-2.06-.94 2.06-2.06.94zm-11 1L8.5 8.5l.94-2.06 2.06-.94-2.06-.94L8.5 2.5l-.94 2.06-2.06.94zm10 10l.94 2.06.94-2.06 2.06-.94-2.06-.94-.94-2.06-.94 2.06-2.06.94z\"/><path d=\"M17.41 7.96l-1.37-1.37c-.4-.4-.92-.59-1.43-.59-.52 0-1.04.2-1.43.59L10.3 9.45l-7.72 7.72c-.78.78-.78 2.05 0 2.83L4 21.41c.39.39.9.59 1.41.59.51 0 1.02-.2 1.41-.59l7.78-7.78 2.81-2.81c.8-.78.8-2.07 0-2.86zM5.41 20L4 18.59l7.72-7.72 1.47 1.35L5.41 20z\"/>\n",
              "  </svg>\n",
              "      </button>\n",
              "      \n",
              "  <style>\n",
              "    .colab-df-container {\n",
              "      display:flex;\n",
              "      flex-wrap:wrap;\n",
              "      gap: 12px;\n",
              "    }\n",
              "\n",
              "    .colab-df-convert {\n",
              "      background-color: #E8F0FE;\n",
              "      border: none;\n",
              "      border-radius: 50%;\n",
              "      cursor: pointer;\n",
              "      display: none;\n",
              "      fill: #1967D2;\n",
              "      height: 32px;\n",
              "      padding: 0 0 0 0;\n",
              "      width: 32px;\n",
              "    }\n",
              "\n",
              "    .colab-df-convert:hover {\n",
              "      background-color: #E2EBFA;\n",
              "      box-shadow: 0px 1px 2px rgba(60, 64, 67, 0.3), 0px 1px 3px 1px rgba(60, 64, 67, 0.15);\n",
              "      fill: #174EA6;\n",
              "    }\n",
              "\n",
              "    [theme=dark] .colab-df-convert {\n",
              "      background-color: #3B4455;\n",
              "      fill: #D2E3FC;\n",
              "    }\n",
              "\n",
              "    [theme=dark] .colab-df-convert:hover {\n",
              "      background-color: #434B5C;\n",
              "      box-shadow: 0px 1px 3px 1px rgba(0, 0, 0, 0.15);\n",
              "      filter: drop-shadow(0px 1px 2px rgba(0, 0, 0, 0.3));\n",
              "      fill: #FFFFFF;\n",
              "    }\n",
              "  </style>\n",
              "\n",
              "      <script>\n",
              "        const buttonEl =\n",
              "          document.querySelector('#df-456b4e5c-d132-43de-b491-f7af9d4a27ec button.colab-df-convert');\n",
              "        buttonEl.style.display =\n",
              "          google.colab.kernel.accessAllowed ? 'block' : 'none';\n",
              "\n",
              "        async function convertToInteractive(key) {\n",
              "          const element = document.querySelector('#df-456b4e5c-d132-43de-b491-f7af9d4a27ec');\n",
              "          const dataTable =\n",
              "            await google.colab.kernel.invokeFunction('convertToInteractive',\n",
              "                                                     [key], {});\n",
              "          if (!dataTable) return;\n",
              "\n",
              "          const docLinkHtml = 'Like what you see? Visit the ' +\n",
              "            '<a target=\"_blank\" href=https://colab.research.google.com/notebooks/data_table.ipynb>data table notebook</a>'\n",
              "            + ' to learn more about interactive tables.';\n",
              "          element.innerHTML = '';\n",
              "          dataTable['output_type'] = 'display_data';\n",
              "          await google.colab.output.renderOutput(dataTable, element);\n",
              "          const docLink = document.createElement('div');\n",
              "          docLink.innerHTML = docLinkHtml;\n",
              "          element.appendChild(docLink);\n",
              "        }\n",
              "      </script>\n",
              "    </div>\n",
              "  </div>\n",
              "  "
            ],
            "text/plain": [
              "        host         ip  ...                            user_agent  methods\n",
              "0  localhost  127.0.0.1  ...  \"Apache (internal dummy connection)\"  OPTIONS\n",
              "1  localhost  127.0.0.1  ...  \"Apache (internal dummy connection)\"  OPTIONS\n",
              "\n",
              "[2 rows x 9 columns]"
            ]
          },
          "metadata": {},
          "execution_count": 11
        }
      ]
    },
    {
      "cell_type": "markdown",
      "source": [
        "We extract the URI from the request"
      ],
      "metadata": {
        "id": "5Q0dlmntIoXY"
      }
    },
    {
      "cell_type": "code",
      "source": [
        "df[\"URI\"] = df[\"request\"].str.extract(r'\\s(\\/+[^\\s]+)')\n",
        "df.tail(2)"
      ],
      "metadata": {
        "colab": {
          "base_uri": "https://localhost:8080/",
          "height": 112
        },
        "id": "DFc36e2TxXx9",
        "outputId": "ef567b62-73f2-4118-c077-64df0b26aeaf"
      },
      "execution_count": 12,
      "outputs": [
        {
          "output_type": "execute_result",
          "data": {
            "text/html": [
              "\n",
              "  <div id=\"df-ab4b9e49-2744-49b3-8a08-6adad5e35979\">\n",
              "    <div class=\"colab-df-container\">\n",
              "      <div>\n",
              "<style scoped>\n",
              "    .dataframe tbody tr th:only-of-type {\n",
              "        vertical-align: middle;\n",
              "    }\n",
              "\n",
              "    .dataframe tbody tr th {\n",
              "        vertical-align: top;\n",
              "    }\n",
              "\n",
              "    .dataframe thead th {\n",
              "        text-align: right;\n",
              "    }\n",
              "</style>\n",
              "<table border=\"1\" class=\"dataframe\">\n",
              "  <thead>\n",
              "    <tr style=\"text-align: right;\">\n",
              "      <th></th>\n",
              "      <th>host</th>\n",
              "      <th>ip</th>\n",
              "      <th>time</th>\n",
              "      <th>request</th>\n",
              "      <th>status</th>\n",
              "      <th>size</th>\n",
              "      <th>referer</th>\n",
              "      <th>user_agent</th>\n",
              "      <th>methods</th>\n",
              "      <th>URI</th>\n",
              "    </tr>\n",
              "  </thead>\n",
              "  <tbody>\n",
              "    <tr>\n",
              "      <th>0</th>\n",
              "      <td>localhost</td>\n",
              "      <td>127.0.0.1</td>\n",
              "      <td>[23/Feb/2014:03:10:31 +0100]</td>\n",
              "      <td>\"OPTIONS * HTTP/1.0\"</td>\n",
              "      <td>200</td>\n",
              "      <td>NaN</td>\n",
              "      <td>\"-\"</td>\n",
              "      <td>\"Apache (internal dummy connection)\"</td>\n",
              "      <td>OPTIONS</td>\n",
              "      <td>NaN</td>\n",
              "    </tr>\n",
              "    <tr>\n",
              "      <th>1</th>\n",
              "      <td>localhost</td>\n",
              "      <td>127.0.0.1</td>\n",
              "      <td>[23/Feb/2014:03:10:31 +0100]</td>\n",
              "      <td>\"OPTIONS * HTTP/1.0\"</td>\n",
              "      <td>200</td>\n",
              "      <td>NaN</td>\n",
              "      <td>\"-\"</td>\n",
              "      <td>\"Apache (internal dummy connection)\"</td>\n",
              "      <td>OPTIONS</td>\n",
              "      <td>NaN</td>\n",
              "    </tr>\n",
              "  </tbody>\n",
              "</table>\n",
              "</div>\n",
              "      <button class=\"colab-df-convert\" onclick=\"convertToInteractive('df-ab4b9e49-2744-49b3-8a08-6adad5e35979')\"\n",
              "              title=\"Convert this dataframe to an interactive table.\"\n",
              "              style=\"display:none;\">\n",
              "        \n",
              "  <svg xmlns=\"http://www.w3.org/2000/svg\" height=\"24px\"viewBox=\"0 0 24 24\"\n",
              "       width=\"24px\">\n",
              "    <path d=\"M0 0h24v24H0V0z\" fill=\"none\"/>\n",
              "    <path d=\"M18.56 5.44l.94 2.06.94-2.06 2.06-.94-2.06-.94-.94-2.06-.94 2.06-2.06.94zm-11 1L8.5 8.5l.94-2.06 2.06-.94-2.06-.94L8.5 2.5l-.94 2.06-2.06.94zm10 10l.94 2.06.94-2.06 2.06-.94-2.06-.94-.94-2.06-.94 2.06-2.06.94z\"/><path d=\"M17.41 7.96l-1.37-1.37c-.4-.4-.92-.59-1.43-.59-.52 0-1.04.2-1.43.59L10.3 9.45l-7.72 7.72c-.78.78-.78 2.05 0 2.83L4 21.41c.39.39.9.59 1.41.59.51 0 1.02-.2 1.41-.59l7.78-7.78 2.81-2.81c.8-.78.8-2.07 0-2.86zM5.41 20L4 18.59l7.72-7.72 1.47 1.35L5.41 20z\"/>\n",
              "  </svg>\n",
              "      </button>\n",
              "      \n",
              "  <style>\n",
              "    .colab-df-container {\n",
              "      display:flex;\n",
              "      flex-wrap:wrap;\n",
              "      gap: 12px;\n",
              "    }\n",
              "\n",
              "    .colab-df-convert {\n",
              "      background-color: #E8F0FE;\n",
              "      border: none;\n",
              "      border-radius: 50%;\n",
              "      cursor: pointer;\n",
              "      display: none;\n",
              "      fill: #1967D2;\n",
              "      height: 32px;\n",
              "      padding: 0 0 0 0;\n",
              "      width: 32px;\n",
              "    }\n",
              "\n",
              "    .colab-df-convert:hover {\n",
              "      background-color: #E2EBFA;\n",
              "      box-shadow: 0px 1px 2px rgba(60, 64, 67, 0.3), 0px 1px 3px 1px rgba(60, 64, 67, 0.15);\n",
              "      fill: #174EA6;\n",
              "    }\n",
              "\n",
              "    [theme=dark] .colab-df-convert {\n",
              "      background-color: #3B4455;\n",
              "      fill: #D2E3FC;\n",
              "    }\n",
              "\n",
              "    [theme=dark] .colab-df-convert:hover {\n",
              "      background-color: #434B5C;\n",
              "      box-shadow: 0px 1px 3px 1px rgba(0, 0, 0, 0.15);\n",
              "      filter: drop-shadow(0px 1px 2px rgba(0, 0, 0, 0.3));\n",
              "      fill: #FFFFFF;\n",
              "    }\n",
              "  </style>\n",
              "\n",
              "      <script>\n",
              "        const buttonEl =\n",
              "          document.querySelector('#df-ab4b9e49-2744-49b3-8a08-6adad5e35979 button.colab-df-convert');\n",
              "        buttonEl.style.display =\n",
              "          google.colab.kernel.accessAllowed ? 'block' : 'none';\n",
              "\n",
              "        async function convertToInteractive(key) {\n",
              "          const element = document.querySelector('#df-ab4b9e49-2744-49b3-8a08-6adad5e35979');\n",
              "          const dataTable =\n",
              "            await google.colab.kernel.invokeFunction('convertToInteractive',\n",
              "                                                     [key], {});\n",
              "          if (!dataTable) return;\n",
              "\n",
              "          const docLinkHtml = 'Like what you see? Visit the ' +\n",
              "            '<a target=\"_blank\" href=https://colab.research.google.com/notebooks/data_table.ipynb>data table notebook</a>'\n",
              "            + ' to learn more about interactive tables.';\n",
              "          element.innerHTML = '';\n",
              "          dataTable['output_type'] = 'display_data';\n",
              "          await google.colab.output.renderOutput(dataTable, element);\n",
              "          const docLink = document.createElement('div');\n",
              "          docLink.innerHTML = docLinkHtml;\n",
              "          element.appendChild(docLink);\n",
              "        }\n",
              "      </script>\n",
              "    </div>\n",
              "  </div>\n",
              "  "
            ],
            "text/plain": [
              "        host         ip  ...  methods  URI\n",
              "0  localhost  127.0.0.1  ...  OPTIONS  NaN\n",
              "1  localhost  127.0.0.1  ...  OPTIONS  NaN\n",
              "\n",
              "[2 rows x 10 columns]"
            ]
          },
          "metadata": {},
          "execution_count": 12
        }
      ]
    },
    {
      "cell_type": "markdown",
      "source": [
        "We extract the protocol from the request"
      ],
      "metadata": {
        "id": "-kwdty-7Iq8K"
      }
    },
    {
      "cell_type": "code",
      "source": [
        "df[\"protocol\"] = df[\"request\"].str.extract(r'(HTTP\\/1\\.[0|1])')\n",
        "df.tail(2)"
      ],
      "metadata": {
        "colab": {
          "base_uri": "https://localhost:8080/",
          "height": 112
        },
        "outputId": "23d07748-ab48-46c7-c008-87aec6c6644e",
        "id": "lfwY1_0Lxc3H"
      },
      "execution_count": 13,
      "outputs": [
        {
          "output_type": "execute_result",
          "data": {
            "text/html": [
              "\n",
              "  <div id=\"df-c85c9eb8-0f8a-43a0-a4e6-d04622852a4d\">\n",
              "    <div class=\"colab-df-container\">\n",
              "      <div>\n",
              "<style scoped>\n",
              "    .dataframe tbody tr th:only-of-type {\n",
              "        vertical-align: middle;\n",
              "    }\n",
              "\n",
              "    .dataframe tbody tr th {\n",
              "        vertical-align: top;\n",
              "    }\n",
              "\n",
              "    .dataframe thead th {\n",
              "        text-align: right;\n",
              "    }\n",
              "</style>\n",
              "<table border=\"1\" class=\"dataframe\">\n",
              "  <thead>\n",
              "    <tr style=\"text-align: right;\">\n",
              "      <th></th>\n",
              "      <th>host</th>\n",
              "      <th>ip</th>\n",
              "      <th>time</th>\n",
              "      <th>request</th>\n",
              "      <th>status</th>\n",
              "      <th>size</th>\n",
              "      <th>referer</th>\n",
              "      <th>user_agent</th>\n",
              "      <th>methods</th>\n",
              "      <th>URI</th>\n",
              "      <th>protocol</th>\n",
              "    </tr>\n",
              "  </thead>\n",
              "  <tbody>\n",
              "    <tr>\n",
              "      <th>0</th>\n",
              "      <td>localhost</td>\n",
              "      <td>127.0.0.1</td>\n",
              "      <td>[23/Feb/2014:03:10:31 +0100]</td>\n",
              "      <td>\"OPTIONS * HTTP/1.0\"</td>\n",
              "      <td>200</td>\n",
              "      <td>NaN</td>\n",
              "      <td>\"-\"</td>\n",
              "      <td>\"Apache (internal dummy connection)\"</td>\n",
              "      <td>OPTIONS</td>\n",
              "      <td>NaN</td>\n",
              "      <td>HTTP/1.0</td>\n",
              "    </tr>\n",
              "    <tr>\n",
              "      <th>1</th>\n",
              "      <td>localhost</td>\n",
              "      <td>127.0.0.1</td>\n",
              "      <td>[23/Feb/2014:03:10:31 +0100]</td>\n",
              "      <td>\"OPTIONS * HTTP/1.0\"</td>\n",
              "      <td>200</td>\n",
              "      <td>NaN</td>\n",
              "      <td>\"-\"</td>\n",
              "      <td>\"Apache (internal dummy connection)\"</td>\n",
              "      <td>OPTIONS</td>\n",
              "      <td>NaN</td>\n",
              "      <td>HTTP/1.0</td>\n",
              "    </tr>\n",
              "  </tbody>\n",
              "</table>\n",
              "</div>\n",
              "      <button class=\"colab-df-convert\" onclick=\"convertToInteractive('df-c85c9eb8-0f8a-43a0-a4e6-d04622852a4d')\"\n",
              "              title=\"Convert this dataframe to an interactive table.\"\n",
              "              style=\"display:none;\">\n",
              "        \n",
              "  <svg xmlns=\"http://www.w3.org/2000/svg\" height=\"24px\"viewBox=\"0 0 24 24\"\n",
              "       width=\"24px\">\n",
              "    <path d=\"M0 0h24v24H0V0z\" fill=\"none\"/>\n",
              "    <path d=\"M18.56 5.44l.94 2.06.94-2.06 2.06-.94-2.06-.94-.94-2.06-.94 2.06-2.06.94zm-11 1L8.5 8.5l.94-2.06 2.06-.94-2.06-.94L8.5 2.5l-.94 2.06-2.06.94zm10 10l.94 2.06.94-2.06 2.06-.94-2.06-.94-.94-2.06-.94 2.06-2.06.94z\"/><path d=\"M17.41 7.96l-1.37-1.37c-.4-.4-.92-.59-1.43-.59-.52 0-1.04.2-1.43.59L10.3 9.45l-7.72 7.72c-.78.78-.78 2.05 0 2.83L4 21.41c.39.39.9.59 1.41.59.51 0 1.02-.2 1.41-.59l7.78-7.78 2.81-2.81c.8-.78.8-2.07 0-2.86zM5.41 20L4 18.59l7.72-7.72 1.47 1.35L5.41 20z\"/>\n",
              "  </svg>\n",
              "      </button>\n",
              "      \n",
              "  <style>\n",
              "    .colab-df-container {\n",
              "      display:flex;\n",
              "      flex-wrap:wrap;\n",
              "      gap: 12px;\n",
              "    }\n",
              "\n",
              "    .colab-df-convert {\n",
              "      background-color: #E8F0FE;\n",
              "      border: none;\n",
              "      border-radius: 50%;\n",
              "      cursor: pointer;\n",
              "      display: none;\n",
              "      fill: #1967D2;\n",
              "      height: 32px;\n",
              "      padding: 0 0 0 0;\n",
              "      width: 32px;\n",
              "    }\n",
              "\n",
              "    .colab-df-convert:hover {\n",
              "      background-color: #E2EBFA;\n",
              "      box-shadow: 0px 1px 2px rgba(60, 64, 67, 0.3), 0px 1px 3px 1px rgba(60, 64, 67, 0.15);\n",
              "      fill: #174EA6;\n",
              "    }\n",
              "\n",
              "    [theme=dark] .colab-df-convert {\n",
              "      background-color: #3B4455;\n",
              "      fill: #D2E3FC;\n",
              "    }\n",
              "\n",
              "    [theme=dark] .colab-df-convert:hover {\n",
              "      background-color: #434B5C;\n",
              "      box-shadow: 0px 1px 3px 1px rgba(0, 0, 0, 0.15);\n",
              "      filter: drop-shadow(0px 1px 2px rgba(0, 0, 0, 0.3));\n",
              "      fill: #FFFFFF;\n",
              "    }\n",
              "  </style>\n",
              "\n",
              "      <script>\n",
              "        const buttonEl =\n",
              "          document.querySelector('#df-c85c9eb8-0f8a-43a0-a4e6-d04622852a4d button.colab-df-convert');\n",
              "        buttonEl.style.display =\n",
              "          google.colab.kernel.accessAllowed ? 'block' : 'none';\n",
              "\n",
              "        async function convertToInteractive(key) {\n",
              "          const element = document.querySelector('#df-c85c9eb8-0f8a-43a0-a4e6-d04622852a4d');\n",
              "          const dataTable =\n",
              "            await google.colab.kernel.invokeFunction('convertToInteractive',\n",
              "                                                     [key], {});\n",
              "          if (!dataTable) return;\n",
              "\n",
              "          const docLinkHtml = 'Like what you see? Visit the ' +\n",
              "            '<a target=\"_blank\" href=https://colab.research.google.com/notebooks/data_table.ipynb>data table notebook</a>'\n",
              "            + ' to learn more about interactive tables.';\n",
              "          element.innerHTML = '';\n",
              "          dataTable['output_type'] = 'display_data';\n",
              "          await google.colab.output.renderOutput(dataTable, element);\n",
              "          const docLink = document.createElement('div');\n",
              "          docLink.innerHTML = docLinkHtml;\n",
              "          element.appendChild(docLink);\n",
              "        }\n",
              "      </script>\n",
              "    </div>\n",
              "  </div>\n",
              "  "
            ],
            "text/plain": [
              "        host         ip                          time  ...  methods  URI  protocol\n",
              "0  localhost  127.0.0.1  [23/Feb/2014:03:10:31 +0100]  ...  OPTIONS  NaN  HTTP/1.0\n",
              "1  localhost  127.0.0.1  [23/Feb/2014:03:10:31 +0100]  ...  OPTIONS  NaN  HTTP/1.0\n",
              "\n",
              "[2 rows x 11 columns]"
            ]
          },
          "metadata": {},
          "execution_count": 13
        }
      ]
    },
    {
      "cell_type": "markdown",
      "source": [
        "status to int"
      ],
      "metadata": {
        "id": "48mNMaEcItKP"
      }
    },
    {
      "cell_type": "code",
      "source": [
        "df[\"status\"] = df[\"status\"].apply(lambda x: int(x))\n",
        "df.tail(2)"
      ],
      "metadata": {
        "colab": {
          "base_uri": "https://localhost:8080/",
          "height": 112
        },
        "outputId": "c2ef7805-c11c-4ac8-bb58-68ed49ec5c96",
        "id": "7zuNBHsaxdCW"
      },
      "execution_count": 14,
      "outputs": [
        {
          "output_type": "execute_result",
          "data": {
            "text/html": [
              "\n",
              "  <div id=\"df-91afcd15-d7b2-4bb6-9dc1-bf27b17477aa\">\n",
              "    <div class=\"colab-df-container\">\n",
              "      <div>\n",
              "<style scoped>\n",
              "    .dataframe tbody tr th:only-of-type {\n",
              "        vertical-align: middle;\n",
              "    }\n",
              "\n",
              "    .dataframe tbody tr th {\n",
              "        vertical-align: top;\n",
              "    }\n",
              "\n",
              "    .dataframe thead th {\n",
              "        text-align: right;\n",
              "    }\n",
              "</style>\n",
              "<table border=\"1\" class=\"dataframe\">\n",
              "  <thead>\n",
              "    <tr style=\"text-align: right;\">\n",
              "      <th></th>\n",
              "      <th>host</th>\n",
              "      <th>ip</th>\n",
              "      <th>time</th>\n",
              "      <th>request</th>\n",
              "      <th>status</th>\n",
              "      <th>size</th>\n",
              "      <th>referer</th>\n",
              "      <th>user_agent</th>\n",
              "      <th>methods</th>\n",
              "      <th>URI</th>\n",
              "      <th>protocol</th>\n",
              "    </tr>\n",
              "  </thead>\n",
              "  <tbody>\n",
              "    <tr>\n",
              "      <th>0</th>\n",
              "      <td>localhost</td>\n",
              "      <td>127.0.0.1</td>\n",
              "      <td>[23/Feb/2014:03:10:31 +0100]</td>\n",
              "      <td>\"OPTIONS * HTTP/1.0\"</td>\n",
              "      <td>200</td>\n",
              "      <td>NaN</td>\n",
              "      <td>\"-\"</td>\n",
              "      <td>\"Apache (internal dummy connection)\"</td>\n",
              "      <td>OPTIONS</td>\n",
              "      <td>NaN</td>\n",
              "      <td>HTTP/1.0</td>\n",
              "    </tr>\n",
              "    <tr>\n",
              "      <th>1</th>\n",
              "      <td>localhost</td>\n",
              "      <td>127.0.0.1</td>\n",
              "      <td>[23/Feb/2014:03:10:31 +0100]</td>\n",
              "      <td>\"OPTIONS * HTTP/1.0\"</td>\n",
              "      <td>200</td>\n",
              "      <td>NaN</td>\n",
              "      <td>\"-\"</td>\n",
              "      <td>\"Apache (internal dummy connection)\"</td>\n",
              "      <td>OPTIONS</td>\n",
              "      <td>NaN</td>\n",
              "      <td>HTTP/1.0</td>\n",
              "    </tr>\n",
              "  </tbody>\n",
              "</table>\n",
              "</div>\n",
              "      <button class=\"colab-df-convert\" onclick=\"convertToInteractive('df-91afcd15-d7b2-4bb6-9dc1-bf27b17477aa')\"\n",
              "              title=\"Convert this dataframe to an interactive table.\"\n",
              "              style=\"display:none;\">\n",
              "        \n",
              "  <svg xmlns=\"http://www.w3.org/2000/svg\" height=\"24px\"viewBox=\"0 0 24 24\"\n",
              "       width=\"24px\">\n",
              "    <path d=\"M0 0h24v24H0V0z\" fill=\"none\"/>\n",
              "    <path d=\"M18.56 5.44l.94 2.06.94-2.06 2.06-.94-2.06-.94-.94-2.06-.94 2.06-2.06.94zm-11 1L8.5 8.5l.94-2.06 2.06-.94-2.06-.94L8.5 2.5l-.94 2.06-2.06.94zm10 10l.94 2.06.94-2.06 2.06-.94-2.06-.94-.94-2.06-.94 2.06-2.06.94z\"/><path d=\"M17.41 7.96l-1.37-1.37c-.4-.4-.92-.59-1.43-.59-.52 0-1.04.2-1.43.59L10.3 9.45l-7.72 7.72c-.78.78-.78 2.05 0 2.83L4 21.41c.39.39.9.59 1.41.59.51 0 1.02-.2 1.41-.59l7.78-7.78 2.81-2.81c.8-.78.8-2.07 0-2.86zM5.41 20L4 18.59l7.72-7.72 1.47 1.35L5.41 20z\"/>\n",
              "  </svg>\n",
              "      </button>\n",
              "      \n",
              "  <style>\n",
              "    .colab-df-container {\n",
              "      display:flex;\n",
              "      flex-wrap:wrap;\n",
              "      gap: 12px;\n",
              "    }\n",
              "\n",
              "    .colab-df-convert {\n",
              "      background-color: #E8F0FE;\n",
              "      border: none;\n",
              "      border-radius: 50%;\n",
              "      cursor: pointer;\n",
              "      display: none;\n",
              "      fill: #1967D2;\n",
              "      height: 32px;\n",
              "      padding: 0 0 0 0;\n",
              "      width: 32px;\n",
              "    }\n",
              "\n",
              "    .colab-df-convert:hover {\n",
              "      background-color: #E2EBFA;\n",
              "      box-shadow: 0px 1px 2px rgba(60, 64, 67, 0.3), 0px 1px 3px 1px rgba(60, 64, 67, 0.15);\n",
              "      fill: #174EA6;\n",
              "    }\n",
              "\n",
              "    [theme=dark] .colab-df-convert {\n",
              "      background-color: #3B4455;\n",
              "      fill: #D2E3FC;\n",
              "    }\n",
              "\n",
              "    [theme=dark] .colab-df-convert:hover {\n",
              "      background-color: #434B5C;\n",
              "      box-shadow: 0px 1px 3px 1px rgba(0, 0, 0, 0.15);\n",
              "      filter: drop-shadow(0px 1px 2px rgba(0, 0, 0, 0.3));\n",
              "      fill: #FFFFFF;\n",
              "    }\n",
              "  </style>\n",
              "\n",
              "      <script>\n",
              "        const buttonEl =\n",
              "          document.querySelector('#df-91afcd15-d7b2-4bb6-9dc1-bf27b17477aa button.colab-df-convert');\n",
              "        buttonEl.style.display =\n",
              "          google.colab.kernel.accessAllowed ? 'block' : 'none';\n",
              "\n",
              "        async function convertToInteractive(key) {\n",
              "          const element = document.querySelector('#df-91afcd15-d7b2-4bb6-9dc1-bf27b17477aa');\n",
              "          const dataTable =\n",
              "            await google.colab.kernel.invokeFunction('convertToInteractive',\n",
              "                                                     [key], {});\n",
              "          if (!dataTable) return;\n",
              "\n",
              "          const docLinkHtml = 'Like what you see? Visit the ' +\n",
              "            '<a target=\"_blank\" href=https://colab.research.google.com/notebooks/data_table.ipynb>data table notebook</a>'\n",
              "            + ' to learn more about interactive tables.';\n",
              "          element.innerHTML = '';\n",
              "          dataTable['output_type'] = 'display_data';\n",
              "          await google.colab.output.renderOutput(dataTable, element);\n",
              "          const docLink = document.createElement('div');\n",
              "          docLink.innerHTML = docLinkHtml;\n",
              "          element.appendChild(docLink);\n",
              "        }\n",
              "      </script>\n",
              "    </div>\n",
              "  </div>\n",
              "  "
            ],
            "text/plain": [
              "        host         ip                          time  ...  methods  URI  protocol\n",
              "0  localhost  127.0.0.1  [23/Feb/2014:03:10:31 +0100]  ...  OPTIONS  NaN  HTTP/1.0\n",
              "1  localhost  127.0.0.1  [23/Feb/2014:03:10:31 +0100]  ...  OPTIONS  NaN  HTTP/1.0\n",
              "\n",
              "[2 rows x 11 columns]"
            ]
          },
          "metadata": {},
          "execution_count": 14
        }
      ]
    },
    {
      "cell_type": "markdown",
      "source": [
        "We maps the status codes to the W3C names."
      ],
      "metadata": {
        "id": "TxIOC6NCIyEO"
      }
    },
    {
      "cell_type": "code",
      "source": [
        "from http.client import responses\n",
        "df[\"status_description\"] = df[\"status\"].apply(lambda x: responses[x])\n",
        "df.tail(2)"
      ],
      "metadata": {
        "colab": {
          "base_uri": "https://localhost:8080/",
          "height": 112
        },
        "outputId": "10b252a4-75f4-4f41-b045-d860c8a8d6d6",
        "id": "YPLPK3wuxdNh"
      },
      "execution_count": 17,
      "outputs": [
        {
          "output_type": "execute_result",
          "data": {
            "text/html": [
              "\n",
              "  <div id=\"df-7a66c0d4-13c9-4af9-a69e-b5ebfe98708a\">\n",
              "    <div class=\"colab-df-container\">\n",
              "      <div>\n",
              "<style scoped>\n",
              "    .dataframe tbody tr th:only-of-type {\n",
              "        vertical-align: middle;\n",
              "    }\n",
              "\n",
              "    .dataframe tbody tr th {\n",
              "        vertical-align: top;\n",
              "    }\n",
              "\n",
              "    .dataframe thead th {\n",
              "        text-align: right;\n",
              "    }\n",
              "</style>\n",
              "<table border=\"1\" class=\"dataframe\">\n",
              "  <thead>\n",
              "    <tr style=\"text-align: right;\">\n",
              "      <th></th>\n",
              "      <th>host</th>\n",
              "      <th>ip</th>\n",
              "      <th>time</th>\n",
              "      <th>request</th>\n",
              "      <th>status</th>\n",
              "      <th>size</th>\n",
              "      <th>referer</th>\n",
              "      <th>user_agent</th>\n",
              "      <th>methods</th>\n",
              "      <th>URI</th>\n",
              "      <th>protocol</th>\n",
              "      <th>status_description</th>\n",
              "    </tr>\n",
              "  </thead>\n",
              "  <tbody>\n",
              "    <tr>\n",
              "      <th>0</th>\n",
              "      <td>localhost</td>\n",
              "      <td>127.0.0.1</td>\n",
              "      <td>[23/Feb/2014:03:10:31 +0100]</td>\n",
              "      <td>\"OPTIONS * HTTP/1.0\"</td>\n",
              "      <td>200</td>\n",
              "      <td>NaN</td>\n",
              "      <td>\"-\"</td>\n",
              "      <td>\"Apache (internal dummy connection)\"</td>\n",
              "      <td>OPTIONS</td>\n",
              "      <td>NaN</td>\n",
              "      <td>HTTP/1.0</td>\n",
              "      <td>OK</td>\n",
              "    </tr>\n",
              "    <tr>\n",
              "      <th>1</th>\n",
              "      <td>localhost</td>\n",
              "      <td>127.0.0.1</td>\n",
              "      <td>[23/Feb/2014:03:10:31 +0100]</td>\n",
              "      <td>\"OPTIONS * HTTP/1.0\"</td>\n",
              "      <td>200</td>\n",
              "      <td>NaN</td>\n",
              "      <td>\"-\"</td>\n",
              "      <td>\"Apache (internal dummy connection)\"</td>\n",
              "      <td>OPTIONS</td>\n",
              "      <td>NaN</td>\n",
              "      <td>HTTP/1.0</td>\n",
              "      <td>OK</td>\n",
              "    </tr>\n",
              "  </tbody>\n",
              "</table>\n",
              "</div>\n",
              "      <button class=\"colab-df-convert\" onclick=\"convertToInteractive('df-7a66c0d4-13c9-4af9-a69e-b5ebfe98708a')\"\n",
              "              title=\"Convert this dataframe to an interactive table.\"\n",
              "              style=\"display:none;\">\n",
              "        \n",
              "  <svg xmlns=\"http://www.w3.org/2000/svg\" height=\"24px\"viewBox=\"0 0 24 24\"\n",
              "       width=\"24px\">\n",
              "    <path d=\"M0 0h24v24H0V0z\" fill=\"none\"/>\n",
              "    <path d=\"M18.56 5.44l.94 2.06.94-2.06 2.06-.94-2.06-.94-.94-2.06-.94 2.06-2.06.94zm-11 1L8.5 8.5l.94-2.06 2.06-.94-2.06-.94L8.5 2.5l-.94 2.06-2.06.94zm10 10l.94 2.06.94-2.06 2.06-.94-2.06-.94-.94-2.06-.94 2.06-2.06.94z\"/><path d=\"M17.41 7.96l-1.37-1.37c-.4-.4-.92-.59-1.43-.59-.52 0-1.04.2-1.43.59L10.3 9.45l-7.72 7.72c-.78.78-.78 2.05 0 2.83L4 21.41c.39.39.9.59 1.41.59.51 0 1.02-.2 1.41-.59l7.78-7.78 2.81-2.81c.8-.78.8-2.07 0-2.86zM5.41 20L4 18.59l7.72-7.72 1.47 1.35L5.41 20z\"/>\n",
              "  </svg>\n",
              "      </button>\n",
              "      \n",
              "  <style>\n",
              "    .colab-df-container {\n",
              "      display:flex;\n",
              "      flex-wrap:wrap;\n",
              "      gap: 12px;\n",
              "    }\n",
              "\n",
              "    .colab-df-convert {\n",
              "      background-color: #E8F0FE;\n",
              "      border: none;\n",
              "      border-radius: 50%;\n",
              "      cursor: pointer;\n",
              "      display: none;\n",
              "      fill: #1967D2;\n",
              "      height: 32px;\n",
              "      padding: 0 0 0 0;\n",
              "      width: 32px;\n",
              "    }\n",
              "\n",
              "    .colab-df-convert:hover {\n",
              "      background-color: #E2EBFA;\n",
              "      box-shadow: 0px 1px 2px rgba(60, 64, 67, 0.3), 0px 1px 3px 1px rgba(60, 64, 67, 0.15);\n",
              "      fill: #174EA6;\n",
              "    }\n",
              "\n",
              "    [theme=dark] .colab-df-convert {\n",
              "      background-color: #3B4455;\n",
              "      fill: #D2E3FC;\n",
              "    }\n",
              "\n",
              "    [theme=dark] .colab-df-convert:hover {\n",
              "      background-color: #434B5C;\n",
              "      box-shadow: 0px 1px 3px 1px rgba(0, 0, 0, 0.15);\n",
              "      filter: drop-shadow(0px 1px 2px rgba(0, 0, 0, 0.3));\n",
              "      fill: #FFFFFF;\n",
              "    }\n",
              "  </style>\n",
              "\n",
              "      <script>\n",
              "        const buttonEl =\n",
              "          document.querySelector('#df-7a66c0d4-13c9-4af9-a69e-b5ebfe98708a button.colab-df-convert');\n",
              "        buttonEl.style.display =\n",
              "          google.colab.kernel.accessAllowed ? 'block' : 'none';\n",
              "\n",
              "        async function convertToInteractive(key) {\n",
              "          const element = document.querySelector('#df-7a66c0d4-13c9-4af9-a69e-b5ebfe98708a');\n",
              "          const dataTable =\n",
              "            await google.colab.kernel.invokeFunction('convertToInteractive',\n",
              "                                                     [key], {});\n",
              "          if (!dataTable) return;\n",
              "\n",
              "          const docLinkHtml = 'Like what you see? Visit the ' +\n",
              "            '<a target=\"_blank\" href=https://colab.research.google.com/notebooks/data_table.ipynb>data table notebook</a>'\n",
              "            + ' to learn more about interactive tables.';\n",
              "          element.innerHTML = '';\n",
              "          dataTable['output_type'] = 'display_data';\n",
              "          await google.colab.output.renderOutput(dataTable, element);\n",
              "          const docLink = document.createElement('div');\n",
              "          docLink.innerHTML = docLinkHtml;\n",
              "          element.appendChild(docLink);\n",
              "        }\n",
              "      </script>\n",
              "    </div>\n",
              "  </div>\n",
              "  "
            ],
            "text/plain": [
              "        host         ip  ...  protocol status_description\n",
              "0  localhost  127.0.0.1  ...  HTTP/1.0                 OK\n",
              "1  localhost  127.0.0.1  ...  HTTP/1.0                 OK\n",
              "\n",
              "[2 rows x 12 columns]"
            ]
          },
          "metadata": {},
          "execution_count": 17
        }
      ]
    },
    {
      "cell_type": "markdown",
      "source": [
        "Remove quotes from referer"
      ],
      "metadata": {
        "id": "Y4vXfMjyI5YG"
      }
    },
    {
      "cell_type": "code",
      "source": [
        "import numpy as np\n",
        "df[\"referer\"] = df[\"referer\"].str.replace(\"\\\"\",\"\")\n",
        "df[\"referer\"]= df[\"referer\"].apply(lambda x: np.nan if x == \"-\" else x)\n",
        "df.tail(2)"
      ],
      "metadata": {
        "colab": {
          "base_uri": "https://localhost:8080/",
          "height": 112
        },
        "outputId": "c4b90e97-2d20-46f9-872b-b9c4f0f4def6",
        "id": "teZbZbLrx7nL"
      },
      "execution_count": 19,
      "outputs": [
        {
          "output_type": "execute_result",
          "data": {
            "text/html": [
              "\n",
              "  <div id=\"df-e3cdda5c-d09f-4be6-bade-3a4cbc60394a\">\n",
              "    <div class=\"colab-df-container\">\n",
              "      <div>\n",
              "<style scoped>\n",
              "    .dataframe tbody tr th:only-of-type {\n",
              "        vertical-align: middle;\n",
              "    }\n",
              "\n",
              "    .dataframe tbody tr th {\n",
              "        vertical-align: top;\n",
              "    }\n",
              "\n",
              "    .dataframe thead th {\n",
              "        text-align: right;\n",
              "    }\n",
              "</style>\n",
              "<table border=\"1\" class=\"dataframe\">\n",
              "  <thead>\n",
              "    <tr style=\"text-align: right;\">\n",
              "      <th></th>\n",
              "      <th>host</th>\n",
              "      <th>ip</th>\n",
              "      <th>time</th>\n",
              "      <th>request</th>\n",
              "      <th>status</th>\n",
              "      <th>size</th>\n",
              "      <th>referer</th>\n",
              "      <th>user_agent</th>\n",
              "      <th>methods</th>\n",
              "      <th>URI</th>\n",
              "      <th>protocol</th>\n",
              "      <th>status_description</th>\n",
              "    </tr>\n",
              "  </thead>\n",
              "  <tbody>\n",
              "    <tr>\n",
              "      <th>0</th>\n",
              "      <td>localhost</td>\n",
              "      <td>127.0.0.1</td>\n",
              "      <td>[23/Feb/2014:03:10:31 +0100]</td>\n",
              "      <td>\"OPTIONS * HTTP/1.0\"</td>\n",
              "      <td>200</td>\n",
              "      <td>NaN</td>\n",
              "      <td>NaN</td>\n",
              "      <td>\"Apache (internal dummy connection)\"</td>\n",
              "      <td>OPTIONS</td>\n",
              "      <td>NaN</td>\n",
              "      <td>HTTP/1.0</td>\n",
              "      <td>OK</td>\n",
              "    </tr>\n",
              "    <tr>\n",
              "      <th>1</th>\n",
              "      <td>localhost</td>\n",
              "      <td>127.0.0.1</td>\n",
              "      <td>[23/Feb/2014:03:10:31 +0100]</td>\n",
              "      <td>\"OPTIONS * HTTP/1.0\"</td>\n",
              "      <td>200</td>\n",
              "      <td>NaN</td>\n",
              "      <td>NaN</td>\n",
              "      <td>\"Apache (internal dummy connection)\"</td>\n",
              "      <td>OPTIONS</td>\n",
              "      <td>NaN</td>\n",
              "      <td>HTTP/1.0</td>\n",
              "      <td>OK</td>\n",
              "    </tr>\n",
              "  </tbody>\n",
              "</table>\n",
              "</div>\n",
              "      <button class=\"colab-df-convert\" onclick=\"convertToInteractive('df-e3cdda5c-d09f-4be6-bade-3a4cbc60394a')\"\n",
              "              title=\"Convert this dataframe to an interactive table.\"\n",
              "              style=\"display:none;\">\n",
              "        \n",
              "  <svg xmlns=\"http://www.w3.org/2000/svg\" height=\"24px\"viewBox=\"0 0 24 24\"\n",
              "       width=\"24px\">\n",
              "    <path d=\"M0 0h24v24H0V0z\" fill=\"none\"/>\n",
              "    <path d=\"M18.56 5.44l.94 2.06.94-2.06 2.06-.94-2.06-.94-.94-2.06-.94 2.06-2.06.94zm-11 1L8.5 8.5l.94-2.06 2.06-.94-2.06-.94L8.5 2.5l-.94 2.06-2.06.94zm10 10l.94 2.06.94-2.06 2.06-.94-2.06-.94-.94-2.06-.94 2.06-2.06.94z\"/><path d=\"M17.41 7.96l-1.37-1.37c-.4-.4-.92-.59-1.43-.59-.52 0-1.04.2-1.43.59L10.3 9.45l-7.72 7.72c-.78.78-.78 2.05 0 2.83L4 21.41c.39.39.9.59 1.41.59.51 0 1.02-.2 1.41-.59l7.78-7.78 2.81-2.81c.8-.78.8-2.07 0-2.86zM5.41 20L4 18.59l7.72-7.72 1.47 1.35L5.41 20z\"/>\n",
              "  </svg>\n",
              "      </button>\n",
              "      \n",
              "  <style>\n",
              "    .colab-df-container {\n",
              "      display:flex;\n",
              "      flex-wrap:wrap;\n",
              "      gap: 12px;\n",
              "    }\n",
              "\n",
              "    .colab-df-convert {\n",
              "      background-color: #E8F0FE;\n",
              "      border: none;\n",
              "      border-radius: 50%;\n",
              "      cursor: pointer;\n",
              "      display: none;\n",
              "      fill: #1967D2;\n",
              "      height: 32px;\n",
              "      padding: 0 0 0 0;\n",
              "      width: 32px;\n",
              "    }\n",
              "\n",
              "    .colab-df-convert:hover {\n",
              "      background-color: #E2EBFA;\n",
              "      box-shadow: 0px 1px 2px rgba(60, 64, 67, 0.3), 0px 1px 3px 1px rgba(60, 64, 67, 0.15);\n",
              "      fill: #174EA6;\n",
              "    }\n",
              "\n",
              "    [theme=dark] .colab-df-convert {\n",
              "      background-color: #3B4455;\n",
              "      fill: #D2E3FC;\n",
              "    }\n",
              "\n",
              "    [theme=dark] .colab-df-convert:hover {\n",
              "      background-color: #434B5C;\n",
              "      box-shadow: 0px 1px 3px 1px rgba(0, 0, 0, 0.15);\n",
              "      filter: drop-shadow(0px 1px 2px rgba(0, 0, 0, 0.3));\n",
              "      fill: #FFFFFF;\n",
              "    }\n",
              "  </style>\n",
              "\n",
              "      <script>\n",
              "        const buttonEl =\n",
              "          document.querySelector('#df-e3cdda5c-d09f-4be6-bade-3a4cbc60394a button.colab-df-convert');\n",
              "        buttonEl.style.display =\n",
              "          google.colab.kernel.accessAllowed ? 'block' : 'none';\n",
              "\n",
              "        async function convertToInteractive(key) {\n",
              "          const element = document.querySelector('#df-e3cdda5c-d09f-4be6-bade-3a4cbc60394a');\n",
              "          const dataTable =\n",
              "            await google.colab.kernel.invokeFunction('convertToInteractive',\n",
              "                                                     [key], {});\n",
              "          if (!dataTable) return;\n",
              "\n",
              "          const docLinkHtml = 'Like what you see? Visit the ' +\n",
              "            '<a target=\"_blank\" href=https://colab.research.google.com/notebooks/data_table.ipynb>data table notebook</a>'\n",
              "            + ' to learn more about interactive tables.';\n",
              "          element.innerHTML = '';\n",
              "          dataTable['output_type'] = 'display_data';\n",
              "          await google.colab.output.renderOutput(dataTable, element);\n",
              "          const docLink = document.createElement('div');\n",
              "          docLink.innerHTML = docLinkHtml;\n",
              "          element.appendChild(docLink);\n",
              "        }\n",
              "      </script>\n",
              "    </div>\n",
              "  </div>\n",
              "  "
            ],
            "text/plain": [
              "        host         ip  ...  protocol status_description\n",
              "0  localhost  127.0.0.1  ...  HTTP/1.0                 OK\n",
              "1  localhost  127.0.0.1  ...  HTTP/1.0                 OK\n",
              "\n",
              "[2 rows x 12 columns]"
            ]
          },
          "metadata": {},
          "execution_count": 19
        }
      ]
    },
    {
      "cell_type": "markdown",
      "source": [
        "time to datatime object"
      ],
      "metadata": {
        "id": "DYU2CxzQI-uW"
      }
    },
    {
      "cell_type": "code",
      "source": [
        "df[\"time\"] = df[\"time\"].str.replace(\"[\", \"\").str.replace(\"]\", \"\")\n",
        "df[\"time\"] = df.time.str.split(\":\").str[0] + \" \" + df.time.str.split(\":\").str[1:].apply(lambda x: \":\".join(x))\n",
        "df[\"time\"] = pd.to_datetime(df[\"time\"])\n",
        "df.tail(2)"
      ],
      "metadata": {
        "colab": {
          "base_uri": "https://localhost:8080/",
          "height": 112
        },
        "id": "el3WlpgJzxC-",
        "outputId": "ebab7cf9-2537-4fc1-c0d1-7a59b33e09b5"
      },
      "execution_count": 28,
      "outputs": [
        {
          "output_type": "execute_result",
          "data": {
            "text/html": [
              "\n",
              "  <div id=\"df-909a62f2-778a-442b-9bf9-3b0e9d7fb2cb\">\n",
              "    <div class=\"colab-df-container\">\n",
              "      <div>\n",
              "<style scoped>\n",
              "    .dataframe tbody tr th:only-of-type {\n",
              "        vertical-align: middle;\n",
              "    }\n",
              "\n",
              "    .dataframe tbody tr th {\n",
              "        vertical-align: top;\n",
              "    }\n",
              "\n",
              "    .dataframe thead th {\n",
              "        text-align: right;\n",
              "    }\n",
              "</style>\n",
              "<table border=\"1\" class=\"dataframe\">\n",
              "  <thead>\n",
              "    <tr style=\"text-align: right;\">\n",
              "      <th></th>\n",
              "      <th>host</th>\n",
              "      <th>ip</th>\n",
              "      <th>time</th>\n",
              "      <th>request</th>\n",
              "      <th>status</th>\n",
              "      <th>size</th>\n",
              "      <th>referer</th>\n",
              "      <th>user_agent</th>\n",
              "      <th>methods</th>\n",
              "      <th>URI</th>\n",
              "      <th>protocol</th>\n",
              "      <th>status_description</th>\n",
              "    </tr>\n",
              "  </thead>\n",
              "  <tbody>\n",
              "    <tr>\n",
              "      <th>0</th>\n",
              "      <td>localhost</td>\n",
              "      <td>127.0.0.1</td>\n",
              "      <td>2014-02-23 03:10:31+01:00</td>\n",
              "      <td>\"OPTIONS * HTTP/1.0\"</td>\n",
              "      <td>200</td>\n",
              "      <td>NaN</td>\n",
              "      <td>NaN</td>\n",
              "      <td>Apache (internal dummy connection)</td>\n",
              "      <td>OPTIONS</td>\n",
              "      <td>NaN</td>\n",
              "      <td>HTTP/1.0</td>\n",
              "      <td>OK</td>\n",
              "    </tr>\n",
              "    <tr>\n",
              "      <th>1</th>\n",
              "      <td>localhost</td>\n",
              "      <td>127.0.0.1</td>\n",
              "      <td>2014-02-23 03:10:31+01:00</td>\n",
              "      <td>\"OPTIONS * HTTP/1.0\"</td>\n",
              "      <td>200</td>\n",
              "      <td>NaN</td>\n",
              "      <td>NaN</td>\n",
              "      <td>Apache (internal dummy connection)</td>\n",
              "      <td>OPTIONS</td>\n",
              "      <td>NaN</td>\n",
              "      <td>HTTP/1.0</td>\n",
              "      <td>OK</td>\n",
              "    </tr>\n",
              "  </tbody>\n",
              "</table>\n",
              "</div>\n",
              "      <button class=\"colab-df-convert\" onclick=\"convertToInteractive('df-909a62f2-778a-442b-9bf9-3b0e9d7fb2cb')\"\n",
              "              title=\"Convert this dataframe to an interactive table.\"\n",
              "              style=\"display:none;\">\n",
              "        \n",
              "  <svg xmlns=\"http://www.w3.org/2000/svg\" height=\"24px\"viewBox=\"0 0 24 24\"\n",
              "       width=\"24px\">\n",
              "    <path d=\"M0 0h24v24H0V0z\" fill=\"none\"/>\n",
              "    <path d=\"M18.56 5.44l.94 2.06.94-2.06 2.06-.94-2.06-.94-.94-2.06-.94 2.06-2.06.94zm-11 1L8.5 8.5l.94-2.06 2.06-.94-2.06-.94L8.5 2.5l-.94 2.06-2.06.94zm10 10l.94 2.06.94-2.06 2.06-.94-2.06-.94-.94-2.06-.94 2.06-2.06.94z\"/><path d=\"M17.41 7.96l-1.37-1.37c-.4-.4-.92-.59-1.43-.59-.52 0-1.04.2-1.43.59L10.3 9.45l-7.72 7.72c-.78.78-.78 2.05 0 2.83L4 21.41c.39.39.9.59 1.41.59.51 0 1.02-.2 1.41-.59l7.78-7.78 2.81-2.81c.8-.78.8-2.07 0-2.86zM5.41 20L4 18.59l7.72-7.72 1.47 1.35L5.41 20z\"/>\n",
              "  </svg>\n",
              "      </button>\n",
              "      \n",
              "  <style>\n",
              "    .colab-df-container {\n",
              "      display:flex;\n",
              "      flex-wrap:wrap;\n",
              "      gap: 12px;\n",
              "    }\n",
              "\n",
              "    .colab-df-convert {\n",
              "      background-color: #E8F0FE;\n",
              "      border: none;\n",
              "      border-radius: 50%;\n",
              "      cursor: pointer;\n",
              "      display: none;\n",
              "      fill: #1967D2;\n",
              "      height: 32px;\n",
              "      padding: 0 0 0 0;\n",
              "      width: 32px;\n",
              "    }\n",
              "\n",
              "    .colab-df-convert:hover {\n",
              "      background-color: #E2EBFA;\n",
              "      box-shadow: 0px 1px 2px rgba(60, 64, 67, 0.3), 0px 1px 3px 1px rgba(60, 64, 67, 0.15);\n",
              "      fill: #174EA6;\n",
              "    }\n",
              "\n",
              "    [theme=dark] .colab-df-convert {\n",
              "      background-color: #3B4455;\n",
              "      fill: #D2E3FC;\n",
              "    }\n",
              "\n",
              "    [theme=dark] .colab-df-convert:hover {\n",
              "      background-color: #434B5C;\n",
              "      box-shadow: 0px 1px 3px 1px rgba(0, 0, 0, 0.15);\n",
              "      filter: drop-shadow(0px 1px 2px rgba(0, 0, 0, 0.3));\n",
              "      fill: #FFFFFF;\n",
              "    }\n",
              "  </style>\n",
              "\n",
              "      <script>\n",
              "        const buttonEl =\n",
              "          document.querySelector('#df-909a62f2-778a-442b-9bf9-3b0e9d7fb2cb button.colab-df-convert');\n",
              "        buttonEl.style.display =\n",
              "          google.colab.kernel.accessAllowed ? 'block' : 'none';\n",
              "\n",
              "        async function convertToInteractive(key) {\n",
              "          const element = document.querySelector('#df-909a62f2-778a-442b-9bf9-3b0e9d7fb2cb');\n",
              "          const dataTable =\n",
              "            await google.colab.kernel.invokeFunction('convertToInteractive',\n",
              "                                                     [key], {});\n",
              "          if (!dataTable) return;\n",
              "\n",
              "          const docLinkHtml = 'Like what you see? Visit the ' +\n",
              "            '<a target=\"_blank\" href=https://colab.research.google.com/notebooks/data_table.ipynb>data table notebook</a>'\n",
              "            + ' to learn more about interactive tables.';\n",
              "          element.innerHTML = '';\n",
              "          dataTable['output_type'] = 'display_data';\n",
              "          await google.colab.output.renderOutput(dataTable, element);\n",
              "          const docLink = document.createElement('div');\n",
              "          docLink.innerHTML = docLinkHtml;\n",
              "          element.appendChild(docLink);\n",
              "        }\n",
              "      </script>\n",
              "    </div>\n",
              "  </div>\n",
              "  "
            ],
            "text/plain": [
              "        host         ip  ...  protocol status_description\n",
              "0  localhost  127.0.0.1  ...  HTTP/1.0                 OK\n",
              "1  localhost  127.0.0.1  ...  HTTP/1.0                 OK\n",
              "\n",
              "[2 rows x 12 columns]"
            ]
          },
          "metadata": {},
          "execution_count": 28
        }
      ]
    },
    {
      "cell_type": "markdown",
      "source": [
        "edit user_agent"
      ],
      "metadata": {
        "id": "a2qM1hfGJUVk"
      }
    },
    {
      "cell_type": "code",
      "source": [
        "df[\"user_agent\"] = df[\"user_agent\"].str.replace(\"\\\"\",\"\")"
      ],
      "metadata": {
        "id": "B0r9g_BuyPuG"
      },
      "execution_count": 20,
      "outputs": []
    },
    {
      "cell_type": "markdown",
      "source": [
        "\n",
        "We parse the \"user_agent\" to identify browser, device and os attributes."
      ],
      "metadata": {
        "id": "cibRbLRXJLnB"
      }
    },
    {
      "cell_type": "code",
      "source": [
        "from user_agents import parse\n",
        "df[\"browser_family\"] = df[\"user_agent\"].apply(lambda x: parse(x).browser.family )\n",
        "df[\"browser_version\"] = df[\"user_agent\"].apply(lambda x: parse(x).browser.version_string)\n",
        "df[\"os_family\"] = df[\"user_agent\"].apply(lambda x: parse(x).os.family)\n",
        "df[\"os_version\"] = df[\"user_agent\"].apply(lambda x: parse(x).os.version_string)\n",
        "df[\"device_family\"] = df[\"user_agent\"].apply(lambda x: parse(x).device.family)\n",
        "df[\"device_brand\"] = df[\"user_agent\"].apply(lambda x: parse(x).device.brand)\n",
        "df[\"device_model\"] = df[\"user_agent\"].apply(lambda x: parse(x).device.model)\n",
        "df.tail(2)"
      ],
      "metadata": {
        "colab": {
          "base_uri": "https://localhost:8080/",
          "height": 280
        },
        "id": "Drct5tm1xCsG",
        "outputId": "abd514ea-c296-43fd-cce4-8b70b52c6dd7"
      },
      "execution_count": 29,
      "outputs": [
        {
          "output_type": "execute_result",
          "data": {
            "text/html": [
              "\n",
              "  <div id=\"df-49680bb6-c9cd-4d12-b6db-f3b536804474\">\n",
              "    <div class=\"colab-df-container\">\n",
              "      <div>\n",
              "<style scoped>\n",
              "    .dataframe tbody tr th:only-of-type {\n",
              "        vertical-align: middle;\n",
              "    }\n",
              "\n",
              "    .dataframe tbody tr th {\n",
              "        vertical-align: top;\n",
              "    }\n",
              "\n",
              "    .dataframe thead th {\n",
              "        text-align: right;\n",
              "    }\n",
              "</style>\n",
              "<table border=\"1\" class=\"dataframe\">\n",
              "  <thead>\n",
              "    <tr style=\"text-align: right;\">\n",
              "      <th></th>\n",
              "      <th>host</th>\n",
              "      <th>ip</th>\n",
              "      <th>time</th>\n",
              "      <th>request</th>\n",
              "      <th>status</th>\n",
              "      <th>size</th>\n",
              "      <th>referer</th>\n",
              "      <th>user_agent</th>\n",
              "      <th>methods</th>\n",
              "      <th>URI</th>\n",
              "      <th>protocol</th>\n",
              "      <th>status_description</th>\n",
              "      <th>browser_family</th>\n",
              "      <th>browser_version</th>\n",
              "      <th>os_family</th>\n",
              "      <th>os_version</th>\n",
              "      <th>device_family</th>\n",
              "      <th>device_brand</th>\n",
              "      <th>device_model</th>\n",
              "    </tr>\n",
              "  </thead>\n",
              "  <tbody>\n",
              "    <tr>\n",
              "      <th>0</th>\n",
              "      <td>localhost</td>\n",
              "      <td>127.0.0.1</td>\n",
              "      <td>2014-02-23 03:10:31+01:00</td>\n",
              "      <td>\"OPTIONS * HTTP/1.0\"</td>\n",
              "      <td>200</td>\n",
              "      <td>NaN</td>\n",
              "      <td>NaN</td>\n",
              "      <td>Apache (internal dummy connection)</td>\n",
              "      <td>OPTIONS</td>\n",
              "      <td>NaN</td>\n",
              "      <td>HTTP/1.0</td>\n",
              "      <td>OK</td>\n",
              "      <td>Other</td>\n",
              "      <td></td>\n",
              "      <td>Other</td>\n",
              "      <td></td>\n",
              "      <td>Other</td>\n",
              "      <td>None</td>\n",
              "      <td>None</td>\n",
              "    </tr>\n",
              "    <tr>\n",
              "      <th>1</th>\n",
              "      <td>localhost</td>\n",
              "      <td>127.0.0.1</td>\n",
              "      <td>2014-02-23 03:10:31+01:00</td>\n",
              "      <td>\"OPTIONS * HTTP/1.0\"</td>\n",
              "      <td>200</td>\n",
              "      <td>NaN</td>\n",
              "      <td>NaN</td>\n",
              "      <td>Apache (internal dummy connection)</td>\n",
              "      <td>OPTIONS</td>\n",
              "      <td>NaN</td>\n",
              "      <td>HTTP/1.0</td>\n",
              "      <td>OK</td>\n",
              "      <td>Other</td>\n",
              "      <td></td>\n",
              "      <td>Other</td>\n",
              "      <td></td>\n",
              "      <td>Other</td>\n",
              "      <td>None</td>\n",
              "      <td>None</td>\n",
              "    </tr>\n",
              "  </tbody>\n",
              "</table>\n",
              "</div>\n",
              "      <button class=\"colab-df-convert\" onclick=\"convertToInteractive('df-49680bb6-c9cd-4d12-b6db-f3b536804474')\"\n",
              "              title=\"Convert this dataframe to an interactive table.\"\n",
              "              style=\"display:none;\">\n",
              "        \n",
              "  <svg xmlns=\"http://www.w3.org/2000/svg\" height=\"24px\"viewBox=\"0 0 24 24\"\n",
              "       width=\"24px\">\n",
              "    <path d=\"M0 0h24v24H0V0z\" fill=\"none\"/>\n",
              "    <path d=\"M18.56 5.44l.94 2.06.94-2.06 2.06-.94-2.06-.94-.94-2.06-.94 2.06-2.06.94zm-11 1L8.5 8.5l.94-2.06 2.06-.94-2.06-.94L8.5 2.5l-.94 2.06-2.06.94zm10 10l.94 2.06.94-2.06 2.06-.94-2.06-.94-.94-2.06-.94 2.06-2.06.94z\"/><path d=\"M17.41 7.96l-1.37-1.37c-.4-.4-.92-.59-1.43-.59-.52 0-1.04.2-1.43.59L10.3 9.45l-7.72 7.72c-.78.78-.78 2.05 0 2.83L4 21.41c.39.39.9.59 1.41.59.51 0 1.02-.2 1.41-.59l7.78-7.78 2.81-2.81c.8-.78.8-2.07 0-2.86zM5.41 20L4 18.59l7.72-7.72 1.47 1.35L5.41 20z\"/>\n",
              "  </svg>\n",
              "      </button>\n",
              "      \n",
              "  <style>\n",
              "    .colab-df-container {\n",
              "      display:flex;\n",
              "      flex-wrap:wrap;\n",
              "      gap: 12px;\n",
              "    }\n",
              "\n",
              "    .colab-df-convert {\n",
              "      background-color: #E8F0FE;\n",
              "      border: none;\n",
              "      border-radius: 50%;\n",
              "      cursor: pointer;\n",
              "      display: none;\n",
              "      fill: #1967D2;\n",
              "      height: 32px;\n",
              "      padding: 0 0 0 0;\n",
              "      width: 32px;\n",
              "    }\n",
              "\n",
              "    .colab-df-convert:hover {\n",
              "      background-color: #E2EBFA;\n",
              "      box-shadow: 0px 1px 2px rgba(60, 64, 67, 0.3), 0px 1px 3px 1px rgba(60, 64, 67, 0.15);\n",
              "      fill: #174EA6;\n",
              "    }\n",
              "\n",
              "    [theme=dark] .colab-df-convert {\n",
              "      background-color: #3B4455;\n",
              "      fill: #D2E3FC;\n",
              "    }\n",
              "\n",
              "    [theme=dark] .colab-df-convert:hover {\n",
              "      background-color: #434B5C;\n",
              "      box-shadow: 0px 1px 3px 1px rgba(0, 0, 0, 0.15);\n",
              "      filter: drop-shadow(0px 1px 2px rgba(0, 0, 0, 0.3));\n",
              "      fill: #FFFFFF;\n",
              "    }\n",
              "  </style>\n",
              "\n",
              "      <script>\n",
              "        const buttonEl =\n",
              "          document.querySelector('#df-49680bb6-c9cd-4d12-b6db-f3b536804474 button.colab-df-convert');\n",
              "        buttonEl.style.display =\n",
              "          google.colab.kernel.accessAllowed ? 'block' : 'none';\n",
              "\n",
              "        async function convertToInteractive(key) {\n",
              "          const element = document.querySelector('#df-49680bb6-c9cd-4d12-b6db-f3b536804474');\n",
              "          const dataTable =\n",
              "            await google.colab.kernel.invokeFunction('convertToInteractive',\n",
              "                                                     [key], {});\n",
              "          if (!dataTable) return;\n",
              "\n",
              "          const docLinkHtml = 'Like what you see? Visit the ' +\n",
              "            '<a target=\"_blank\" href=https://colab.research.google.com/notebooks/data_table.ipynb>data table notebook</a>'\n",
              "            + ' to learn more about interactive tables.';\n",
              "          element.innerHTML = '';\n",
              "          dataTable['output_type'] = 'display_data';\n",
              "          await google.colab.output.renderOutput(dataTable, element);\n",
              "          const docLink = document.createElement('div');\n",
              "          docLink.innerHTML = docLinkHtml;\n",
              "          element.appendChild(docLink);\n",
              "        }\n",
              "      </script>\n",
              "    </div>\n",
              "  </div>\n",
              "  "
            ],
            "text/plain": [
              "        host         ip  ... device_brand device_model\n",
              "0  localhost  127.0.0.1  ...         None         None\n",
              "1  localhost  127.0.0.1  ...         None         None\n",
              "\n",
              "[2 rows x 19 columns]"
            ]
          },
          "metadata": {},
          "execution_count": 29
        }
      ]
    },
    {
      "cell_type": "code",
      "source": [
        "!wget https://raw.githubusercontent.com/leobioinf0/Registre_de_logs/main/GeoLiteCity.dat"
      ],
      "metadata": {
        "id": "gQkIVeHzAhMQ",
        "colab": {
          "base_uri": "https://localhost:8080/"
        },
        "outputId": "f03dcfc5-0d33-4a7c-da31-44cb73c03f21"
      },
      "execution_count": 30,
      "outputs": [
        {
          "output_type": "stream",
          "name": "stdout",
          "text": [
            "--2022-03-02 22:46:47--  https://raw.githubusercontent.com/leobioinf0/Registre_de_logs/main/GeoLiteCity.dat\n",
            "Resolving raw.githubusercontent.com (raw.githubusercontent.com)... 185.199.108.133, 185.199.109.133, 185.199.110.133, ...\n",
            "Connecting to raw.githubusercontent.com (raw.githubusercontent.com)|185.199.108.133|:443... connected.\n",
            "HTTP request sent, awaiting response... 200 OK\n",
            "Length: 20539238 (20M) [application/octet-stream]\n",
            "Saving to: ‘GeoLiteCity.dat’\n",
            "\n",
            "GeoLiteCity.dat     100%[===================>]  19.59M  --.-KB/s    in 0.09s   \n",
            "\n",
            "2022-03-02 22:46:48 (221 MB/s) - ‘GeoLiteCity.dat’ saved [20539238/20539238]\n",
            "\n"
          ]
        }
      ]
    },
    {
      "cell_type": "markdown",
      "source": [
        "We geolocate IPs"
      ],
      "metadata": {
        "id": "5wPRrhOFKIpj"
      }
    },
    {
      "cell_type": "code",
      "metadata": {
        "id": "kc3bGMk6EW9Y"
      },
      "source": [
        "import pygeoip\n",
        "gi = pygeoip.GeoIP('./GeoLiteCity.dat', pygeoip.MEMORY_CACHE)"
      ],
      "execution_count": 32,
      "outputs": []
    },
    {
      "cell_type": "code",
      "source": [
        "df[\"GeoIP\"] = df[\"ip\"].apply(lambda x: gi.record_by_addr(x))\n",
        "df = pd.concat([df.drop(['GeoIP'], axis=1), df['GeoIP'].apply(pd.Series)], axis=1)\n",
        "df.tail(2)"
      ],
      "metadata": {
        "colab": {
          "base_uri": "https://localhost:8080/",
          "height": 280
        },
        "id": "MQ32-O8R0gXF",
        "outputId": "bf85dfa9-7bc9-4883-b619-c876859987c7"
      },
      "execution_count": 34,
      "outputs": [
        {
          "output_type": "execute_result",
          "data": {
            "text/html": [
              "\n",
              "  <div id=\"df-e688491b-a983-466c-a182-c94f27dd2230\">\n",
              "    <div class=\"colab-df-container\">\n",
              "      <div>\n",
              "<style scoped>\n",
              "    .dataframe tbody tr th:only-of-type {\n",
              "        vertical-align: middle;\n",
              "    }\n",
              "\n",
              "    .dataframe tbody tr th {\n",
              "        vertical-align: top;\n",
              "    }\n",
              "\n",
              "    .dataframe thead th {\n",
              "        text-align: right;\n",
              "    }\n",
              "</style>\n",
              "<table border=\"1\" class=\"dataframe\">\n",
              "  <thead>\n",
              "    <tr style=\"text-align: right;\">\n",
              "      <th></th>\n",
              "      <th>host</th>\n",
              "      <th>ip</th>\n",
              "      <th>time</th>\n",
              "      <th>request</th>\n",
              "      <th>status</th>\n",
              "      <th>size</th>\n",
              "      <th>referer</th>\n",
              "      <th>user_agent</th>\n",
              "      <th>methods</th>\n",
              "      <th>URI</th>\n",
              "      <th>protocol</th>\n",
              "      <th>status_description</th>\n",
              "      <th>browser_family</th>\n",
              "      <th>browser_version</th>\n",
              "      <th>os_family</th>\n",
              "      <th>os_version</th>\n",
              "      <th>device_family</th>\n",
              "      <th>device_brand</th>\n",
              "      <th>device_model</th>\n",
              "      <th>dma_code</th>\n",
              "      <th>area_code</th>\n",
              "      <th>metro_code</th>\n",
              "      <th>postal_code</th>\n",
              "      <th>country_code</th>\n",
              "      <th>country_code3</th>\n",
              "      <th>country_name</th>\n",
              "      <th>continent</th>\n",
              "      <th>region_code</th>\n",
              "      <th>city</th>\n",
              "      <th>latitude</th>\n",
              "      <th>longitude</th>\n",
              "      <th>time_zone</th>\n",
              "    </tr>\n",
              "  </thead>\n",
              "  <tbody>\n",
              "    <tr>\n",
              "      <th>72026</th>\n",
              "      <td>www.akumenius.com</td>\n",
              "      <td>46.222.223.201</td>\n",
              "      <td>2014-02-24 15:06:38+01:00</td>\n",
              "      <td>\"GET /modules/raton/views/themes/bcoos/images/...</td>\n",
              "      <td>200</td>\n",
              "      <td>624</td>\n",
              "      <td>http://www.akumenius.com/destinosCaracteristic...</td>\n",
              "      <td>Mozilla/5.0 (iPhone; CPU iPhone OS 7_0_6 like ...</td>\n",
              "      <td>GET</td>\n",
              "      <td>/modules/raton/views/themes/bcoos/images/busca...</td>\n",
              "      <td>HTTP/1.1</td>\n",
              "      <td>OK</td>\n",
              "      <td>Mobile Safari</td>\n",
              "      <td>7.0</td>\n",
              "      <td>iOS</td>\n",
              "      <td>7.0.6</td>\n",
              "      <td>iPhone</td>\n",
              "      <td>Apple</td>\n",
              "      <td>iPhone</td>\n",
              "      <td>0.0</td>\n",
              "      <td>0.0</td>\n",
              "      <td>None</td>\n",
              "      <td>28029</td>\n",
              "      <td>ES</td>\n",
              "      <td>ESP</td>\n",
              "      <td>Spain</td>\n",
              "      <td>EU</td>\n",
              "      <td>29</td>\n",
              "      <td>Madrid</td>\n",
              "      <td>40.4165</td>\n",
              "      <td>-3.7026</td>\n",
              "      <td>Europe/Madrid</td>\n",
              "    </tr>\n",
              "    <tr>\n",
              "      <th>72027</th>\n",
              "      <td>www.akumenius.com</td>\n",
              "      <td>46.222.223.201</td>\n",
              "      <td>2014-02-24 15:06:38+01:00</td>\n",
              "      <td>\"GET /libraries/jqueryui/css/ui-lightness/imag...</td>\n",
              "      <td>200</td>\n",
              "      <td>90</td>\n",
              "      <td>http://www.akumenius.com/destinosCaracteristic...</td>\n",
              "      <td>Mozilla/5.0 (iPhone; CPU iPhone OS 7_0_6 like ...</td>\n",
              "      <td>GET</td>\n",
              "      <td>/libraries/jqueryui/css/ui-lightness/images/ui...</td>\n",
              "      <td>HTTP/1.1</td>\n",
              "      <td>OK</td>\n",
              "      <td>Mobile Safari</td>\n",
              "      <td>7.0</td>\n",
              "      <td>iOS</td>\n",
              "      <td>7.0.6</td>\n",
              "      <td>iPhone</td>\n",
              "      <td>Apple</td>\n",
              "      <td>iPhone</td>\n",
              "      <td>0.0</td>\n",
              "      <td>0.0</td>\n",
              "      <td>None</td>\n",
              "      <td>28029</td>\n",
              "      <td>ES</td>\n",
              "      <td>ESP</td>\n",
              "      <td>Spain</td>\n",
              "      <td>EU</td>\n",
              "      <td>29</td>\n",
              "      <td>Madrid</td>\n",
              "      <td>40.4165</td>\n",
              "      <td>-3.7026</td>\n",
              "      <td>Europe/Madrid</td>\n",
              "    </tr>\n",
              "  </tbody>\n",
              "</table>\n",
              "</div>\n",
              "      <button class=\"colab-df-convert\" onclick=\"convertToInteractive('df-e688491b-a983-466c-a182-c94f27dd2230')\"\n",
              "              title=\"Convert this dataframe to an interactive table.\"\n",
              "              style=\"display:none;\">\n",
              "        \n",
              "  <svg xmlns=\"http://www.w3.org/2000/svg\" height=\"24px\"viewBox=\"0 0 24 24\"\n",
              "       width=\"24px\">\n",
              "    <path d=\"M0 0h24v24H0V0z\" fill=\"none\"/>\n",
              "    <path d=\"M18.56 5.44l.94 2.06.94-2.06 2.06-.94-2.06-.94-.94-2.06-.94 2.06-2.06.94zm-11 1L8.5 8.5l.94-2.06 2.06-.94-2.06-.94L8.5 2.5l-.94 2.06-2.06.94zm10 10l.94 2.06.94-2.06 2.06-.94-2.06-.94-.94-2.06-.94 2.06-2.06.94z\"/><path d=\"M17.41 7.96l-1.37-1.37c-.4-.4-.92-.59-1.43-.59-.52 0-1.04.2-1.43.59L10.3 9.45l-7.72 7.72c-.78.78-.78 2.05 0 2.83L4 21.41c.39.39.9.59 1.41.59.51 0 1.02-.2 1.41-.59l7.78-7.78 2.81-2.81c.8-.78.8-2.07 0-2.86zM5.41 20L4 18.59l7.72-7.72 1.47 1.35L5.41 20z\"/>\n",
              "  </svg>\n",
              "      </button>\n",
              "      \n",
              "  <style>\n",
              "    .colab-df-container {\n",
              "      display:flex;\n",
              "      flex-wrap:wrap;\n",
              "      gap: 12px;\n",
              "    }\n",
              "\n",
              "    .colab-df-convert {\n",
              "      background-color: #E8F0FE;\n",
              "      border: none;\n",
              "      border-radius: 50%;\n",
              "      cursor: pointer;\n",
              "      display: none;\n",
              "      fill: #1967D2;\n",
              "      height: 32px;\n",
              "      padding: 0 0 0 0;\n",
              "      width: 32px;\n",
              "    }\n",
              "\n",
              "    .colab-df-convert:hover {\n",
              "      background-color: #E2EBFA;\n",
              "      box-shadow: 0px 1px 2px rgba(60, 64, 67, 0.3), 0px 1px 3px 1px rgba(60, 64, 67, 0.15);\n",
              "      fill: #174EA6;\n",
              "    }\n",
              "\n",
              "    [theme=dark] .colab-df-convert {\n",
              "      background-color: #3B4455;\n",
              "      fill: #D2E3FC;\n",
              "    }\n",
              "\n",
              "    [theme=dark] .colab-df-convert:hover {\n",
              "      background-color: #434B5C;\n",
              "      box-shadow: 0px 1px 3px 1px rgba(0, 0, 0, 0.15);\n",
              "      filter: drop-shadow(0px 1px 2px rgba(0, 0, 0, 0.3));\n",
              "      fill: #FFFFFF;\n",
              "    }\n",
              "  </style>\n",
              "\n",
              "      <script>\n",
              "        const buttonEl =\n",
              "          document.querySelector('#df-e688491b-a983-466c-a182-c94f27dd2230 button.colab-df-convert');\n",
              "        buttonEl.style.display =\n",
              "          google.colab.kernel.accessAllowed ? 'block' : 'none';\n",
              "\n",
              "        async function convertToInteractive(key) {\n",
              "          const element = document.querySelector('#df-e688491b-a983-466c-a182-c94f27dd2230');\n",
              "          const dataTable =\n",
              "            await google.colab.kernel.invokeFunction('convertToInteractive',\n",
              "                                                     [key], {});\n",
              "          if (!dataTable) return;\n",
              "\n",
              "          const docLinkHtml = 'Like what you see? Visit the ' +\n",
              "            '<a target=\"_blank\" href=https://colab.research.google.com/notebooks/data_table.ipynb>data table notebook</a>'\n",
              "            + ' to learn more about interactive tables.';\n",
              "          element.innerHTML = '';\n",
              "          dataTable['output_type'] = 'display_data';\n",
              "          await google.colab.output.renderOutput(dataTable, element);\n",
              "          const docLink = document.createElement('div');\n",
              "          docLink.innerHTML = docLinkHtml;\n",
              "          element.appendChild(docLink);\n",
              "        }\n",
              "      </script>\n",
              "    </div>\n",
              "  </div>\n",
              "  "
            ],
            "text/plain": [
              "                    host              ip  ... longitude      time_zone\n",
              "72026  www.akumenius.com  46.222.223.201  ...   -3.7026  Europe/Madrid\n",
              "72027  www.akumenius.com  46.222.223.201  ...   -3.7026  Europe/Madrid\n",
              "\n",
              "[2 rows x 32 columns]"
            ]
          },
          "metadata": {},
          "execution_count": 34
        }
      ]
    },
    {
      "cell_type": "markdown",
      "source": [
        "Save data"
      ],
      "metadata": {
        "id": "u39KQbjzKmx9"
      }
    },
    {
      "cell_type": "code",
      "source": [
        "df.to_csv(r'akumenius.csv', index=False)"
      ],
      "metadata": {
        "id": "o7lQoogb7Tf_"
      },
      "execution_count": 35,
      "outputs": []
    },
    {
      "cell_type": "code",
      "source": [
        "from elasticsearch import Elasticsearch\n",
        "\n",
        "es = Elasticsearch(cloud_id=\"S15_T01_deployment:dXMtY2VudHJhbDEuZ2NwLmNsb3VkLmVzLmlvJDBmOGVjZmM1MTY1ZDQwNWVhOWEyYjQ1M2JjNzEyOWUzJDk0OWM2NjFlNTkwYTQ5ODdhMTdjODBlOTUwY2U4ZDM5\",\n",
        "                   basic_auth=(\"elastic\", \"TRSOInnB4h7YLMyeE3Xda6kA\"))\n",
        "\n",
        "res = es.indices.get(index=\"*\")"
      ],
      "metadata": {
        "id": "9fD-hF3wmJLG",
        "colab": {
          "base_uri": "https://localhost:8080/"
        },
        "outputId": "4c8b44d5-b510-4b71-cf27-94d21819f2ff"
      },
      "execution_count": 37,
      "outputs": [
        {
          "output_type": "stream",
          "name": "stderr",
          "text": [
            "/usr/local/lib/python3.7/dist-packages/requests/__init__.py:91: RequestsDependencyWarning: urllib3 (1.26.8) or chardet (3.0.4) doesn't match a supported version!\n",
            "  RequestsDependencyWarning)\n"
          ]
        }
      ]
    },
    {
      "cell_type": "code",
      "source": [
        "from pprint import pprint\n",
        "\n",
        "pprint(res.body['akumenius_index']['mappings']['properties'])"
      ],
      "metadata": {
        "colab": {
          "base_uri": "https://localhost:8080/"
        },
        "id": "zyYpfcg28jek",
        "outputId": "d90bfd20-5a60-431d-a6bc-2fea1e08574a"
      },
      "execution_count": 48,
      "outputs": [
        {
          "output_type": "stream",
          "name": "stdout",
          "text": [
            "{'@timestamp': {'type': 'date'},\n",
            " 'URI': {'type': 'keyword'},\n",
            " 'area_code': {'type': 'double'},\n",
            " 'browser_family': {'type': 'keyword'},\n",
            " 'browser_version': {'type': 'keyword'},\n",
            " 'city': {'type': 'keyword'},\n",
            " 'continent': {'type': 'keyword'},\n",
            " 'country_code': {'type': 'keyword'},\n",
            " 'country_code3': {'type': 'keyword'},\n",
            " 'country_name': {'type': 'keyword'},\n",
            " 'device_brand': {'type': 'keyword'},\n",
            " 'device_family': {'type': 'keyword'},\n",
            " 'device_model': {'type': 'keyword'},\n",
            " 'dma_code': {'type': 'double'},\n",
            " 'host': {'type': 'keyword'},\n",
            " 'ip': {'type': 'ip'},\n",
            " 'latitude': {'type': 'double'},\n",
            " 'location': {'type': 'geo_point'},\n",
            " 'longitude': {'type': 'double'},\n",
            " 'methods': {'type': 'keyword'},\n",
            " 'metro_code': {'type': 'keyword'},\n",
            " 'os_family': {'type': 'keyword'},\n",
            " 'os_version': {'type': 'double'},\n",
            " 'postal_code': {'type': 'long'},\n",
            " 'protocol': {'type': 'keyword'},\n",
            " 'referer': {'type': 'keyword'},\n",
            " 'region_code': {'type': 'keyword'},\n",
            " 'request': {'type': 'keyword'},\n",
            " 'size': {'type': 'long'},\n",
            " 'status': {'type': 'long'},\n",
            " 'status_description': {'type': 'keyword'},\n",
            " 'time': {'format': 'yyyy-MM-dd HH:mm:ssXXX', 'type': 'date'},\n",
            " 'time_zone': {'type': 'keyword'},\n",
            " 'user_agent': {'type': 'text'}}\n"
          ]
        }
      ]
    },
    {
      "cell_type": "markdown",
      "source": [
        "### Dashboard"
      ],
      "metadata": {
        "id": "s_-IVC3nX3gY"
      }
    },
    {
      "cell_type": "markdown",
      "source": [
        "![control](https://raw.githubusercontent.com/leobioinf0/Kibana/main/img/10.png)"
      ],
      "metadata": {
        "id": "468gSJfWX3gZ"
      }
    },
    {
      "cell_type": "markdown",
      "source": [
        "![control](https://raw.githubusercontent.com/leobioinf0/Kibana/main/img/11.png)"
      ],
      "metadata": {
        "id": "m2-18VzmFQA5"
      }
    },
    {
      "cell_type": "markdown",
      "source": [
        "![control](https://raw.githubusercontent.com/leobioinf0/Kibana/main/img/12.png)"
      ],
      "metadata": {
        "id": "8RtA92ufFSMk"
      }
    },
    {
      "cell_type": "markdown",
      "source": [
        "![control](https://raw.githubusercontent.com/leobioinf0/Kibana/main/img/13.png)"
      ],
      "metadata": {
        "id": "cEyYasveFWn-"
      }
    }
  ]
}